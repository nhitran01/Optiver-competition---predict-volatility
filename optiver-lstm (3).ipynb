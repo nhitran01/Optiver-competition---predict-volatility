{
 "cells": [
  {
   "cell_type": "code",
   "execution_count": 1,
   "id": "14171613",
   "metadata": {
    "_cell_guid": "b1076dfc-b9ad-4769-8c92-a6c4dae69d19",
    "_uuid": "8f2839f25d086af736a60e9eeb907d3b93b6e0e5",
    "execution": {
     "iopub.execute_input": "2021-08-06T21:53:54.281997Z",
     "iopub.status.busy": "2021-08-06T21:53:54.281410Z",
     "iopub.status.idle": "2021-08-06T21:53:54.284803Z",
     "shell.execute_reply": "2021-08-06T21:53:54.284121Z",
     "shell.execute_reply.started": "2021-08-06T14:12:20.959169Z"
    },
    "papermill": {
     "duration": 0.05905,
     "end_time": "2021-08-06T21:53:54.284967",
     "exception": false,
     "start_time": "2021-08-06T21:53:54.225917",
     "status": "completed"
    },
    "tags": []
   },
   "outputs": [],
   "source": [
    "import numpy as np\n",
    "import pandas as pd\n",
    "import matplotlib.pyplot as plt\n",
    "import os\n",
    "import glob"
   ]
  },
  {
   "cell_type": "code",
   "execution_count": 2,
   "id": "00a31043",
   "metadata": {
    "execution": {
     "iopub.execute_input": "2021-08-06T21:53:54.378323Z",
     "iopub.status.busy": "2021-08-06T21:53:54.377694Z",
     "iopub.status.idle": "2021-08-06T21:53:54.380817Z",
     "shell.execute_reply": "2021-08-06T21:53:54.380293Z",
     "shell.execute_reply.started": "2021-08-06T14:12:24.124356Z"
    },
    "papermill": {
     "duration": 0.05095,
     "end_time": "2021-08-06T21:53:54.380956",
     "exception": false,
     "start_time": "2021-08-06T21:53:54.330006",
     "status": "completed"
    },
    "tags": []
   },
   "outputs": [],
   "source": [
    "data_dir = '../input/optiver-realized-volatility-prediction/'"
   ]
  },
  {
   "cell_type": "markdown",
   "id": "cda9feee",
   "metadata": {
    "papermill": {
     "duration": 0.045236,
     "end_time": "2021-08-06T21:53:54.470292",
     "exception": false,
     "start_time": "2021-08-06T21:53:54.425056",
     "status": "completed"
    },
    "tags": []
   },
   "source": [
    "## Functions for preprocess"
   ]
  },
  {
   "cell_type": "code",
   "execution_count": 3,
   "id": "171331e2",
   "metadata": {
    "execution": {
     "iopub.execute_input": "2021-08-06T21:53:54.566549Z",
     "iopub.status.busy": "2021-08-06T21:53:54.565789Z",
     "iopub.status.idle": "2021-08-06T21:53:54.569025Z",
     "shell.execute_reply": "2021-08-06T21:53:54.568529Z",
     "shell.execute_reply.started": "2021-08-06T14:12:26.682084Z"
    },
    "papermill": {
     "duration": 0.054882,
     "end_time": "2021-08-06T21:53:54.569163",
     "exception": false,
     "start_time": "2021-08-06T21:53:54.514281",
     "status": "completed"
    },
    "tags": []
   },
   "outputs": [],
   "source": [
    "def calc_wap(df):\n",
    "    wap = (df['bid_price1'] * df['ask_size1'] + df['ask_price1'] * df['bid_size1'])/(df['bid_size1'] + df['ask_size1'])\n",
    "    return wap\n",
    "def calc_wap2(df):\n",
    "    wap = (df['bid_price2'] * df['ask_size2'] + df['ask_price2'] * df['bid_size2'])/(df['bid_size2'] + df['ask_size2'])\n",
    "    return wap\n",
    "def calc_wap3(df):\n",
    "    wap = (df['bid_price2'] * df['bid_size2'] + df['ask_price2'] * df['ask_size2']) / (df['bid_size2']+ df['ask_size2'])\n",
    "    return wap\n",
    "\n",
    "\n",
    "def log_return(list_stock_prices):\n",
    "    return np.log(list_stock_prices).diff() \n",
    "\n",
    "def realized_volatility(series):\n",
    "    return np.sqrt(np.sum(series**2))\n",
    "\n",
    "def count_unique(series):\n",
    "    return len(np.unique(series))"
   ]
  },
  {
   "cell_type": "code",
   "execution_count": 4,
   "id": "549e4bfa",
   "metadata": {
    "execution": {
     "iopub.execute_input": "2021-08-06T21:53:54.660639Z",
     "iopub.status.busy": "2021-08-06T21:53:54.659976Z",
     "iopub.status.idle": "2021-08-06T21:53:55.586856Z",
     "shell.execute_reply": "2021-08-06T21:53:55.586170Z",
     "shell.execute_reply.started": "2021-08-06T14:12:29.803759Z"
    },
    "papermill": {
     "duration": 0.974232,
     "end_time": "2021-08-06T21:53:55.587007",
     "exception": false,
     "start_time": "2021-08-06T21:53:54.612775",
     "status": "completed"
    },
    "tags": []
   },
   "outputs": [],
   "source": [
    "book_train = pd.read_parquet(data_dir + \"book_train.parquet/stock_id=15\")"
   ]
  },
  {
   "cell_type": "markdown",
   "id": "eae48241",
   "metadata": {
    "papermill": {
     "duration": 0.043041,
     "end_time": "2021-08-06T21:53:55.674060",
     "exception": false,
     "start_time": "2021-08-06T21:53:55.631019",
     "status": "completed"
    },
    "tags": []
   },
   "source": [
    "## Main function for preprocessing book data"
   ]
  },
  {
   "cell_type": "code",
   "execution_count": 5,
   "id": "9d759ad5",
   "metadata": {
    "execution": {
     "iopub.execute_input": "2021-08-06T21:53:55.780697Z",
     "iopub.status.busy": "2021-08-06T21:53:55.779939Z",
     "iopub.status.idle": "2021-08-06T21:53:55.782784Z",
     "shell.execute_reply": "2021-08-06T21:53:55.783244Z",
     "shell.execute_reply.started": "2021-08-06T14:12:33.672979Z"
    },
    "papermill": {
     "duration": 0.064708,
     "end_time": "2021-08-06T21:53:55.783434",
     "exception": false,
     "start_time": "2021-08-06T21:53:55.718726",
     "status": "completed"
    },
    "tags": []
   },
   "outputs": [],
   "source": [
    "def preprocessor_book(file_path):\n",
    "    df = pd.read_parquet(file_path)\n",
    "    #calculate return etc\n",
    "    df['wap'] = calc_wap(df)\n",
    "    df['log_return'] = df.groupby('time_id')['wap'].apply(log_return)\n",
    "    \n",
    "    df['wap2'] = calc_wap2(df)\n",
    "    df['log_return2'] = df.groupby('time_id')['wap2'].apply(log_return)\n",
    "    \n",
    "    df['wap3'] = calc_wap3(df)\n",
    "    df['log_return3'] = df.groupby('time_id')['wap3'].apply(log_return)\n",
    "    \n",
    "    df['wap_balance'] = abs(df['wap'] - df['wap2'])\n",
    "    \n",
    "    df['price_spread'] = (df['ask_price1'] - df['bid_price1']) / ((df['ask_price1'] + df['bid_price1'])/2)\n",
    "    df['bid_spread'] = df['bid_price1'] - df['bid_price2']\n",
    "    df['ask_spread'] = df['ask_price1'] - df['ask_price2']\n",
    "    df['total_volume'] = (df['ask_size1'] + df['ask_size2']) + (df['bid_size1'] + df['bid_size2'])\n",
    "    df['volume_imbalance'] = abs((df['ask_size1'] + df['ask_size2']) - (df['bid_size1'] + df['bid_size2']))\n",
    "\n",
    "    #dict for aggregate\n",
    "    create_feature_dict = {\n",
    "        'log_return':[realized_volatility],\n",
    "        'log_return2':[realized_volatility],\n",
    "        'log_return3':[realized_volatility],\n",
    "        'wap_balance':[np.mean],\n",
    "        'price_spread':[np.mean],\n",
    "        'bid_spread':[np.mean],\n",
    "        'ask_spread':[np.mean],\n",
    "        'volume_imbalance':[np.mean],\n",
    "        'total_volume':[np.mean],\n",
    "        'wap':[np.mean],\n",
    "            }\n",
    "\n",
    "    #####groupby / all seconds\n",
    "    df_feature = pd.DataFrame(df.groupby(['time_id']).agg(create_feature_dict)).reset_index()\n",
    "    \n",
    "    df_feature.columns = ['_'.join(col) for col in df_feature.columns] #time_id is changed to time_id_\n",
    "        \n",
    "    ######groupby / last XX seconds\n",
    "    last_seconds = [300]\n",
    "    \n",
    "    for second in last_seconds:\n",
    "        second = 600 - second \n",
    "    \n",
    "        df_feature_sec = pd.DataFrame(df.query(f'seconds_in_bucket >= {second}').groupby(['time_id']).agg(create_feature_dict)).reset_index()\n",
    "\n",
    "        df_feature_sec.columns = ['_'.join(col) for col in df_feature_sec.columns] #time_id is changed to time_id_\n",
    "     \n",
    "        df_feature_sec = df_feature_sec.add_suffix('_' + str(second))\n",
    "\n",
    "        df_feature = pd.merge(df_feature,df_feature_sec,how='left',left_on='time_id_',right_on=f'time_id__{second}')\n",
    "        df_feature = df_feature.drop([f'time_id__{second}'],axis=1)\n",
    "    \n",
    "    #create row_id\n",
    "    stock_id = file_path.split('=')[1]\n",
    "    df_feature['row_id'] = df_feature['time_id_'].apply(lambda x:f'{stock_id}-{x}')\n",
    "    df_feature = df_feature.drop(['time_id_'],axis=1)\n",
    "    \n",
    "    return df_feature"
   ]
  },
  {
   "cell_type": "code",
   "execution_count": 6,
   "id": "bc8cc36f",
   "metadata": {
    "execution": {
     "iopub.execute_input": "2021-08-06T21:53:55.875203Z",
     "iopub.status.busy": "2021-08-06T21:53:55.874555Z",
     "iopub.status.idle": "2021-08-06T21:54:07.972966Z",
     "shell.execute_reply": "2021-08-06T21:54:07.973562Z",
     "shell.execute_reply.started": "2021-08-06T14:12:38.127179Z"
    },
    "papermill": {
     "duration": 12.147174,
     "end_time": "2021-08-06T21:54:07.973751",
     "exception": false,
     "start_time": "2021-08-06T21:53:55.826577",
     "status": "completed"
    },
    "tags": []
   },
   "outputs": [
    {
     "name": "stdout",
     "output_type": "stream",
     "text": [
      "CPU times: user 11.6 s, sys: 319 ms, total: 11.9 s\n",
      "Wall time: 12 s\n"
     ]
    },
    {
     "data": {
      "text/html": [
       "<div>\n",
       "<style scoped>\n",
       "    .dataframe tbody tr th:only-of-type {\n",
       "        vertical-align: middle;\n",
       "    }\n",
       "\n",
       "    .dataframe tbody tr th {\n",
       "        vertical-align: top;\n",
       "    }\n",
       "\n",
       "    .dataframe thead th {\n",
       "        text-align: right;\n",
       "    }\n",
       "</style>\n",
       "<table border=\"1\" class=\"dataframe\">\n",
       "  <thead>\n",
       "    <tr style=\"text-align: right;\">\n",
       "      <th></th>\n",
       "      <th>log_return_realized_volatility</th>\n",
       "      <th>log_return2_realized_volatility</th>\n",
       "      <th>log_return3_realized_volatility</th>\n",
       "      <th>wap_balance_mean</th>\n",
       "      <th>price_spread_mean</th>\n",
       "      <th>bid_spread_mean</th>\n",
       "      <th>ask_spread_mean</th>\n",
       "      <th>volume_imbalance_mean</th>\n",
       "      <th>total_volume_mean</th>\n",
       "      <th>wap_mean</th>\n",
       "      <th>...</th>\n",
       "      <th>log_return2_realized_volatility_300</th>\n",
       "      <th>log_return3_realized_volatility_300</th>\n",
       "      <th>wap_balance_mean_300</th>\n",
       "      <th>price_spread_mean_300</th>\n",
       "      <th>bid_spread_mean_300</th>\n",
       "      <th>ask_spread_mean_300</th>\n",
       "      <th>volume_imbalance_mean_300</th>\n",
       "      <th>total_volume_mean_300</th>\n",
       "      <th>wap_mean_300</th>\n",
       "      <th>row_id</th>\n",
       "    </tr>\n",
       "  </thead>\n",
       "  <tbody>\n",
       "    <tr>\n",
       "      <th>0</th>\n",
       "      <td>0.004499</td>\n",
       "      <td>0.006999</td>\n",
       "      <td>0.006119</td>\n",
       "      <td>0.000388</td>\n",
       "      <td>0.000852</td>\n",
       "      <td>0.000176</td>\n",
       "      <td>-0.000151</td>\n",
       "      <td>134.894040</td>\n",
       "      <td>323.496689</td>\n",
       "      <td>1.003725</td>\n",
       "      <td>...</td>\n",
       "      <td>0.004864</td>\n",
       "      <td>0.004492</td>\n",
       "      <td>0.000372</td>\n",
       "      <td>0.000822</td>\n",
       "      <td>0.000223</td>\n",
       "      <td>-0.000162</td>\n",
       "      <td>137.158273</td>\n",
       "      <td>294.928058</td>\n",
       "      <td>1.003753</td>\n",
       "      <td>0-5</td>\n",
       "    </tr>\n",
       "    <tr>\n",
       "      <th>1</th>\n",
       "      <td>0.001204</td>\n",
       "      <td>0.002476</td>\n",
       "      <td>0.002320</td>\n",
       "      <td>0.000212</td>\n",
       "      <td>0.000394</td>\n",
       "      <td>0.000142</td>\n",
       "      <td>-0.000135</td>\n",
       "      <td>142.050000</td>\n",
       "      <td>411.450000</td>\n",
       "      <td>1.000239</td>\n",
       "      <td>...</td>\n",
       "      <td>0.002009</td>\n",
       "      <td>0.001637</td>\n",
       "      <td>0.000239</td>\n",
       "      <td>0.000353</td>\n",
       "      <td>0.000164</td>\n",
       "      <td>-0.000123</td>\n",
       "      <td>135.513043</td>\n",
       "      <td>484.521739</td>\n",
       "      <td>1.000397</td>\n",
       "      <td>0-11</td>\n",
       "    </tr>\n",
       "    <tr>\n",
       "      <th>2</th>\n",
       "      <td>0.002369</td>\n",
       "      <td>0.004801</td>\n",
       "      <td>0.004684</td>\n",
       "      <td>0.000331</td>\n",
       "      <td>0.000725</td>\n",
       "      <td>0.000197</td>\n",
       "      <td>-0.000198</td>\n",
       "      <td>141.414894</td>\n",
       "      <td>416.351064</td>\n",
       "      <td>0.999542</td>\n",
       "      <td>...</td>\n",
       "      <td>0.003196</td>\n",
       "      <td>0.002354</td>\n",
       "      <td>0.000431</td>\n",
       "      <td>0.000689</td>\n",
       "      <td>0.000141</td>\n",
       "      <td>-0.000249</td>\n",
       "      <td>144.147059</td>\n",
       "      <td>455.235294</td>\n",
       "      <td>0.998685</td>\n",
       "      <td>0-16</td>\n",
       "    </tr>\n",
       "    <tr>\n",
       "      <th>3</th>\n",
       "      <td>0.002574</td>\n",
       "      <td>0.003637</td>\n",
       "      <td>0.002881</td>\n",
       "      <td>0.000380</td>\n",
       "      <td>0.000860</td>\n",
       "      <td>0.000190</td>\n",
       "      <td>-0.000108</td>\n",
       "      <td>146.216667</td>\n",
       "      <td>435.266667</td>\n",
       "      <td>0.998832</td>\n",
       "      <td>...</td>\n",
       "      <td>0.002713</td>\n",
       "      <td>0.001814</td>\n",
       "      <td>0.000331</td>\n",
       "      <td>0.000833</td>\n",
       "      <td>0.000158</td>\n",
       "      <td>-0.000095</td>\n",
       "      <td>144.698113</td>\n",
       "      <td>418.169811</td>\n",
       "      <td>0.998436</td>\n",
       "      <td>0-31</td>\n",
       "    </tr>\n",
       "    <tr>\n",
       "      <th>4</th>\n",
       "      <td>0.001894</td>\n",
       "      <td>0.003257</td>\n",
       "      <td>0.003166</td>\n",
       "      <td>0.000254</td>\n",
       "      <td>0.000397</td>\n",
       "      <td>0.000191</td>\n",
       "      <td>-0.000109</td>\n",
       "      <td>123.846591</td>\n",
       "      <td>343.221591</td>\n",
       "      <td>0.999619</td>\n",
       "      <td>...</td>\n",
       "      <td>0.002188</td>\n",
       "      <td>0.002443</td>\n",
       "      <td>0.000252</td>\n",
       "      <td>0.000425</td>\n",
       "      <td>0.000191</td>\n",
       "      <td>-0.000120</td>\n",
       "      <td>99.449438</td>\n",
       "      <td>407.584270</td>\n",
       "      <td>0.999488</td>\n",
       "      <td>0-62</td>\n",
       "    </tr>\n",
       "    <tr>\n",
       "      <th>...</th>\n",
       "      <td>...</td>\n",
       "      <td>...</td>\n",
       "      <td>...</td>\n",
       "      <td>...</td>\n",
       "      <td>...</td>\n",
       "      <td>...</td>\n",
       "      <td>...</td>\n",
       "      <td>...</td>\n",
       "      <td>...</td>\n",
       "      <td>...</td>\n",
       "      <td>...</td>\n",
       "      <td>...</td>\n",
       "      <td>...</td>\n",
       "      <td>...</td>\n",
       "      <td>...</td>\n",
       "      <td>...</td>\n",
       "      <td>...</td>\n",
       "      <td>...</td>\n",
       "      <td>...</td>\n",
       "      <td>...</td>\n",
       "      <td>...</td>\n",
       "    </tr>\n",
       "    <tr>\n",
       "      <th>3825</th>\n",
       "      <td>0.002579</td>\n",
       "      <td>0.003821</td>\n",
       "      <td>0.004029</td>\n",
       "      <td>0.000212</td>\n",
       "      <td>0.000552</td>\n",
       "      <td>0.000083</td>\n",
       "      <td>-0.000182</td>\n",
       "      <td>197.144781</td>\n",
       "      <td>374.235690</td>\n",
       "      <td>0.997938</td>\n",
       "      <td>...</td>\n",
       "      <td>0.002573</td>\n",
       "      <td>0.002769</td>\n",
       "      <td>0.000193</td>\n",
       "      <td>0.000509</td>\n",
       "      <td>0.000062</td>\n",
       "      <td>-0.000169</td>\n",
       "      <td>233.946667</td>\n",
       "      <td>350.560000</td>\n",
       "      <td>0.997519</td>\n",
       "      <td>0-32751</td>\n",
       "    </tr>\n",
       "    <tr>\n",
       "      <th>3826</th>\n",
       "      <td>0.002206</td>\n",
       "      <td>0.002847</td>\n",
       "      <td>0.002848</td>\n",
       "      <td>0.000267</td>\n",
       "      <td>0.000542</td>\n",
       "      <td>0.000092</td>\n",
       "      <td>-0.000172</td>\n",
       "      <td>233.781553</td>\n",
       "      <td>621.131068</td>\n",
       "      <td>1.000310</td>\n",
       "      <td>...</td>\n",
       "      <td>0.002255</td>\n",
       "      <td>0.002007</td>\n",
       "      <td>0.000300</td>\n",
       "      <td>0.000588</td>\n",
       "      <td>0.000074</td>\n",
       "      <td>-0.000177</td>\n",
       "      <td>257.920000</td>\n",
       "      <td>668.640000</td>\n",
       "      <td>1.000682</td>\n",
       "      <td>0-32753</td>\n",
       "    </tr>\n",
       "    <tr>\n",
       "      <th>3827</th>\n",
       "      <td>0.002913</td>\n",
       "      <td>0.003266</td>\n",
       "      <td>0.003235</td>\n",
       "      <td>0.000237</td>\n",
       "      <td>0.000525</td>\n",
       "      <td>0.000202</td>\n",
       "      <td>-0.000083</td>\n",
       "      <td>115.829787</td>\n",
       "      <td>343.734043</td>\n",
       "      <td>0.999552</td>\n",
       "      <td>...</td>\n",
       "      <td>0.002646</td>\n",
       "      <td>0.002559</td>\n",
       "      <td>0.000216</td>\n",
       "      <td>0.000446</td>\n",
       "      <td>0.000191</td>\n",
       "      <td>-0.000075</td>\n",
       "      <td>105.432692</td>\n",
       "      <td>326.759615</td>\n",
       "      <td>1.000111</td>\n",
       "      <td>0-32758</td>\n",
       "    </tr>\n",
       "    <tr>\n",
       "      <th>3828</th>\n",
       "      <td>0.003046</td>\n",
       "      <td>0.005105</td>\n",
       "      <td>0.004688</td>\n",
       "      <td>0.000245</td>\n",
       "      <td>0.000480</td>\n",
       "      <td>0.000113</td>\n",
       "      <td>-0.000166</td>\n",
       "      <td>132.074919</td>\n",
       "      <td>385.429967</td>\n",
       "      <td>1.002357</td>\n",
       "      <td>...</td>\n",
       "      <td>0.003934</td>\n",
       "      <td>0.003472</td>\n",
       "      <td>0.000269</td>\n",
       "      <td>0.000516</td>\n",
       "      <td>0.000096</td>\n",
       "      <td>-0.000175</td>\n",
       "      <td>123.423313</td>\n",
       "      <td>394.588957</td>\n",
       "      <td>1.002277</td>\n",
       "      <td>0-32763</td>\n",
       "    </tr>\n",
       "    <tr>\n",
       "      <th>3829</th>\n",
       "      <td>0.001901</td>\n",
       "      <td>0.002541</td>\n",
       "      <td>0.003286</td>\n",
       "      <td>0.000177</td>\n",
       "      <td>0.000458</td>\n",
       "      <td>0.000124</td>\n",
       "      <td>-0.000127</td>\n",
       "      <td>165.754386</td>\n",
       "      <td>533.543860</td>\n",
       "      <td>0.999123</td>\n",
       "      <td>...</td>\n",
       "      <td>0.001517</td>\n",
       "      <td>0.002000</td>\n",
       "      <td>0.000142</td>\n",
       "      <td>0.000432</td>\n",
       "      <td>0.000140</td>\n",
       "      <td>-0.000114</td>\n",
       "      <td>138.587719</td>\n",
       "      <td>460.429825</td>\n",
       "      <td>0.998454</td>\n",
       "      <td>0-32767</td>\n",
       "    </tr>\n",
       "  </tbody>\n",
       "</table>\n",
       "<p>3830 rows × 21 columns</p>\n",
       "</div>"
      ],
      "text/plain": [
       "      log_return_realized_volatility  log_return2_realized_volatility  \\\n",
       "0                           0.004499                         0.006999   \n",
       "1                           0.001204                         0.002476   \n",
       "2                           0.002369                         0.004801   \n",
       "3                           0.002574                         0.003637   \n",
       "4                           0.001894                         0.003257   \n",
       "...                              ...                              ...   \n",
       "3825                        0.002579                         0.003821   \n",
       "3826                        0.002206                         0.002847   \n",
       "3827                        0.002913                         0.003266   \n",
       "3828                        0.003046                         0.005105   \n",
       "3829                        0.001901                         0.002541   \n",
       "\n",
       "      log_return3_realized_volatility  wap_balance_mean  price_spread_mean  \\\n",
       "0                            0.006119          0.000388           0.000852   \n",
       "1                            0.002320          0.000212           0.000394   \n",
       "2                            0.004684          0.000331           0.000725   \n",
       "3                            0.002881          0.000380           0.000860   \n",
       "4                            0.003166          0.000254           0.000397   \n",
       "...                               ...               ...                ...   \n",
       "3825                         0.004029          0.000212           0.000552   \n",
       "3826                         0.002848          0.000267           0.000542   \n",
       "3827                         0.003235          0.000237           0.000525   \n",
       "3828                         0.004688          0.000245           0.000480   \n",
       "3829                         0.003286          0.000177           0.000458   \n",
       "\n",
       "      bid_spread_mean  ask_spread_mean  volume_imbalance_mean  \\\n",
       "0            0.000176        -0.000151             134.894040   \n",
       "1            0.000142        -0.000135             142.050000   \n",
       "2            0.000197        -0.000198             141.414894   \n",
       "3            0.000190        -0.000108             146.216667   \n",
       "4            0.000191        -0.000109             123.846591   \n",
       "...               ...              ...                    ...   \n",
       "3825         0.000083        -0.000182             197.144781   \n",
       "3826         0.000092        -0.000172             233.781553   \n",
       "3827         0.000202        -0.000083             115.829787   \n",
       "3828         0.000113        -0.000166             132.074919   \n",
       "3829         0.000124        -0.000127             165.754386   \n",
       "\n",
       "      total_volume_mean  wap_mean  ...  log_return2_realized_volatility_300  \\\n",
       "0            323.496689  1.003725  ...                             0.004864   \n",
       "1            411.450000  1.000239  ...                             0.002009   \n",
       "2            416.351064  0.999542  ...                             0.003196   \n",
       "3            435.266667  0.998832  ...                             0.002713   \n",
       "4            343.221591  0.999619  ...                             0.002188   \n",
       "...                 ...       ...  ...                                  ...   \n",
       "3825         374.235690  0.997938  ...                             0.002573   \n",
       "3826         621.131068  1.000310  ...                             0.002255   \n",
       "3827         343.734043  0.999552  ...                             0.002646   \n",
       "3828         385.429967  1.002357  ...                             0.003934   \n",
       "3829         533.543860  0.999123  ...                             0.001517   \n",
       "\n",
       "      log_return3_realized_volatility_300  wap_balance_mean_300  \\\n",
       "0                                0.004492              0.000372   \n",
       "1                                0.001637              0.000239   \n",
       "2                                0.002354              0.000431   \n",
       "3                                0.001814              0.000331   \n",
       "4                                0.002443              0.000252   \n",
       "...                                   ...                   ...   \n",
       "3825                             0.002769              0.000193   \n",
       "3826                             0.002007              0.000300   \n",
       "3827                             0.002559              0.000216   \n",
       "3828                             0.003472              0.000269   \n",
       "3829                             0.002000              0.000142   \n",
       "\n",
       "      price_spread_mean_300  bid_spread_mean_300  ask_spread_mean_300  \\\n",
       "0                  0.000822             0.000223            -0.000162   \n",
       "1                  0.000353             0.000164            -0.000123   \n",
       "2                  0.000689             0.000141            -0.000249   \n",
       "3                  0.000833             0.000158            -0.000095   \n",
       "4                  0.000425             0.000191            -0.000120   \n",
       "...                     ...                  ...                  ...   \n",
       "3825               0.000509             0.000062            -0.000169   \n",
       "3826               0.000588             0.000074            -0.000177   \n",
       "3827               0.000446             0.000191            -0.000075   \n",
       "3828               0.000516             0.000096            -0.000175   \n",
       "3829               0.000432             0.000140            -0.000114   \n",
       "\n",
       "      volume_imbalance_mean_300  total_volume_mean_300  wap_mean_300   row_id  \n",
       "0                    137.158273             294.928058      1.003753      0-5  \n",
       "1                    135.513043             484.521739      1.000397     0-11  \n",
       "2                    144.147059             455.235294      0.998685     0-16  \n",
       "3                    144.698113             418.169811      0.998436     0-31  \n",
       "4                     99.449438             407.584270      0.999488     0-62  \n",
       "...                         ...                    ...           ...      ...  \n",
       "3825                 233.946667             350.560000      0.997519  0-32751  \n",
       "3826                 257.920000             668.640000      1.000682  0-32753  \n",
       "3827                 105.432692             326.759615      1.000111  0-32758  \n",
       "3828                 123.423313             394.588957      1.002277  0-32763  \n",
       "3829                 138.587719             460.429825      0.998454  0-32767  \n",
       "\n",
       "[3830 rows x 21 columns]"
      ]
     },
     "execution_count": 6,
     "metadata": {},
     "output_type": "execute_result"
    }
   ],
   "source": [
    "%%time\n",
    "file_path = data_dir + \"book_train.parquet/stock_id=0\"\n",
    "preprocessor_book(file_path)"
   ]
  },
  {
   "cell_type": "code",
   "execution_count": 7,
   "id": "170b6c79",
   "metadata": {
    "execution": {
     "iopub.execute_input": "2021-08-06T21:54:08.078650Z",
     "iopub.status.busy": "2021-08-06T21:54:08.077658Z",
     "iopub.status.idle": "2021-08-06T21:54:08.151677Z",
     "shell.execute_reply": "2021-08-06T21:54:08.152927Z",
     "shell.execute_reply.started": "2021-08-06T14:12:57.064081Z"
    },
    "papermill": {
     "duration": 0.125288,
     "end_time": "2021-08-06T21:54:08.153179",
     "exception": false,
     "start_time": "2021-08-06T21:54:08.027891",
     "status": "completed"
    },
    "tags": []
   },
   "outputs": [],
   "source": [
    "trade_train = pd.read_parquet(data_dir + \"trade_train.parquet/stock_id=0\")"
   ]
  },
  {
   "cell_type": "markdown",
   "id": "adbafde8",
   "metadata": {
    "papermill": {
     "duration": 0.052597,
     "end_time": "2021-08-06T21:54:08.261921",
     "exception": false,
     "start_time": "2021-08-06T21:54:08.209324",
     "status": "completed"
    },
    "tags": []
   },
   "source": [
    "## Main function for preprocessing trade data"
   ]
  },
  {
   "cell_type": "code",
   "execution_count": 8,
   "id": "22d300b1",
   "metadata": {
    "execution": {
     "iopub.execute_input": "2021-08-06T21:54:08.357541Z",
     "iopub.status.busy": "2021-08-06T21:54:08.356569Z",
     "iopub.status.idle": "2021-08-06T21:54:08.366918Z",
     "shell.execute_reply": "2021-08-06T21:54:08.366323Z",
     "shell.execute_reply.started": "2021-08-06T14:12:59.251111Z"
    },
    "papermill": {
     "duration": 0.060118,
     "end_time": "2021-08-06T21:54:08.367064",
     "exception": false,
     "start_time": "2021-08-06T21:54:08.306946",
     "status": "completed"
    },
    "tags": []
   },
   "outputs": [],
   "source": [
    "def preprocessor_trade(file_path):\n",
    "    df = pd.read_parquet(file_path)\n",
    "    df['log_return'] = df.groupby('time_id')['price'].apply(log_return)\n",
    "    \n",
    "    \n",
    "    aggregate_dictionary = {\n",
    "        'log_return':[realized_volatility],\n",
    "        'seconds_in_bucket':[count_unique],\n",
    "        'size':[np.sum],\n",
    "        'order_count':[np.mean],\n",
    "    }\n",
    "    \n",
    "    df_feature = df.groupby('time_id').agg(aggregate_dictionary)\n",
    "    \n",
    "    df_feature = df_feature.reset_index()\n",
    "    df_feature.columns = ['_'.join(col) for col in df_feature.columns]\n",
    "\n",
    "    \n",
    "    ######groupby / last XX seconds\n",
    "    last_seconds = [300]\n",
    "    \n",
    "    for second in last_seconds:\n",
    "        second = 600 - second\n",
    "    \n",
    "        df_feature_sec = df.query(f'seconds_in_bucket >= {second}').groupby('time_id').agg(aggregate_dictionary)\n",
    "        df_feature_sec = df_feature_sec.reset_index()\n",
    "        \n",
    "        df_feature_sec.columns = ['_'.join(col) for col in df_feature_sec.columns]\n",
    "        df_feature_sec = df_feature_sec.add_suffix('_' + str(second))\n",
    "        \n",
    "        df_feature = pd.merge(df_feature,df_feature_sec,how='left',left_on='time_id_',right_on=f'time_id__{second}')\n",
    "        df_feature = df_feature.drop([f'time_id__{second}'],axis=1)\n",
    "    \n",
    "    df_feature = df_feature.add_prefix('trade_')\n",
    "    stock_id = file_path.split('=')[1]\n",
    "    df_feature['row_id'] = df_feature['trade_time_id_'].apply(lambda x:f'{stock_id}-{x}')\n",
    "    df_feature = df_feature.drop(['trade_time_id_'],axis=1)\n",
    "    \n",
    "    return df_feature"
   ]
  },
  {
   "cell_type": "code",
   "execution_count": 9,
   "id": "911fa9ea",
   "metadata": {
    "execution": {
     "iopub.execute_input": "2021-08-06T21:54:08.462995Z",
     "iopub.status.busy": "2021-08-06T21:54:08.462250Z",
     "iopub.status.idle": "2021-08-06T21:54:12.471343Z",
     "shell.execute_reply": "2021-08-06T21:54:12.472332Z",
     "shell.execute_reply.started": "2021-08-06T14:13:01.814962Z"
    },
    "papermill": {
     "duration": 4.060473,
     "end_time": "2021-08-06T21:54:12.472767",
     "exception": false,
     "start_time": "2021-08-06T21:54:08.412294",
     "status": "completed"
    },
    "tags": []
   },
   "outputs": [
    {
     "name": "stdout",
     "output_type": "stream",
     "text": [
      "CPU times: user 4.06 s, sys: 70.8 ms, total: 4.13 s\n",
      "Wall time: 3.98 s\n"
     ]
    },
    {
     "data": {
      "text/html": [
       "<div>\n",
       "<style scoped>\n",
       "    .dataframe tbody tr th:only-of-type {\n",
       "        vertical-align: middle;\n",
       "    }\n",
       "\n",
       "    .dataframe tbody tr th {\n",
       "        vertical-align: top;\n",
       "    }\n",
       "\n",
       "    .dataframe thead th {\n",
       "        text-align: right;\n",
       "    }\n",
       "</style>\n",
       "<table border=\"1\" class=\"dataframe\">\n",
       "  <thead>\n",
       "    <tr style=\"text-align: right;\">\n",
       "      <th></th>\n",
       "      <th>trade_log_return_realized_volatility</th>\n",
       "      <th>trade_seconds_in_bucket_count_unique</th>\n",
       "      <th>trade_size_sum</th>\n",
       "      <th>trade_order_count_mean</th>\n",
       "      <th>trade_log_return_realized_volatility_300</th>\n",
       "      <th>trade_seconds_in_bucket_count_unique_300</th>\n",
       "      <th>trade_size_sum_300</th>\n",
       "      <th>trade_order_count_mean_300</th>\n",
       "      <th>row_id</th>\n",
       "    </tr>\n",
       "  </thead>\n",
       "  <tbody>\n",
       "    <tr>\n",
       "      <th>0</th>\n",
       "      <td>0.002006</td>\n",
       "      <td>40</td>\n",
       "      <td>3179</td>\n",
       "      <td>2.750000</td>\n",
       "      <td>0.001308</td>\n",
       "      <td>21.0</td>\n",
       "      <td>1587.0</td>\n",
       "      <td>2.571429</td>\n",
       "      <td>0-5</td>\n",
       "    </tr>\n",
       "    <tr>\n",
       "      <th>1</th>\n",
       "      <td>0.000901</td>\n",
       "      <td>30</td>\n",
       "      <td>1289</td>\n",
       "      <td>1.900000</td>\n",
       "      <td>0.000587</td>\n",
       "      <td>16.0</td>\n",
       "      <td>900.0</td>\n",
       "      <td>2.250000</td>\n",
       "      <td>0-11</td>\n",
       "    </tr>\n",
       "    <tr>\n",
       "      <th>2</th>\n",
       "      <td>0.001961</td>\n",
       "      <td>25</td>\n",
       "      <td>2161</td>\n",
       "      <td>2.720000</td>\n",
       "      <td>0.001137</td>\n",
       "      <td>12.0</td>\n",
       "      <td>1189.0</td>\n",
       "      <td>3.166667</td>\n",
       "      <td>0-16</td>\n",
       "    </tr>\n",
       "    <tr>\n",
       "      <th>3</th>\n",
       "      <td>0.001561</td>\n",
       "      <td>15</td>\n",
       "      <td>1962</td>\n",
       "      <td>3.933333</td>\n",
       "      <td>0.001089</td>\n",
       "      <td>9.0</td>\n",
       "      <td>1556.0</td>\n",
       "      <td>5.111111</td>\n",
       "      <td>0-31</td>\n",
       "    </tr>\n",
       "    <tr>\n",
       "      <th>4</th>\n",
       "      <td>0.000871</td>\n",
       "      <td>22</td>\n",
       "      <td>1791</td>\n",
       "      <td>4.045455</td>\n",
       "      <td>0.000453</td>\n",
       "      <td>11.0</td>\n",
       "      <td>1219.0</td>\n",
       "      <td>4.909091</td>\n",
       "      <td>0-62</td>\n",
       "    </tr>\n",
       "    <tr>\n",
       "      <th>...</th>\n",
       "      <td>...</td>\n",
       "      <td>...</td>\n",
       "      <td>...</td>\n",
       "      <td>...</td>\n",
       "      <td>...</td>\n",
       "      <td>...</td>\n",
       "      <td>...</td>\n",
       "      <td>...</td>\n",
       "      <td>...</td>\n",
       "    </tr>\n",
       "    <tr>\n",
       "      <th>3825</th>\n",
       "      <td>0.001519</td>\n",
       "      <td>52</td>\n",
       "      <td>3450</td>\n",
       "      <td>3.057692</td>\n",
       "      <td>0.001162</td>\n",
       "      <td>35.0</td>\n",
       "      <td>2365.0</td>\n",
       "      <td>3.257143</td>\n",
       "      <td>0-32751</td>\n",
       "    </tr>\n",
       "    <tr>\n",
       "      <th>3826</th>\n",
       "      <td>0.001411</td>\n",
       "      <td>28</td>\n",
       "      <td>4547</td>\n",
       "      <td>3.892857</td>\n",
       "      <td>0.001066</td>\n",
       "      <td>12.0</td>\n",
       "      <td>2161.0</td>\n",
       "      <td>4.250000</td>\n",
       "      <td>0-32753</td>\n",
       "    </tr>\n",
       "    <tr>\n",
       "      <th>3827</th>\n",
       "      <td>0.001521</td>\n",
       "      <td>36</td>\n",
       "      <td>4250</td>\n",
       "      <td>3.500000</td>\n",
       "      <td>0.001242</td>\n",
       "      <td>22.0</td>\n",
       "      <td>2294.0</td>\n",
       "      <td>3.727273</td>\n",
       "      <td>0-32758</td>\n",
       "    </tr>\n",
       "    <tr>\n",
       "      <th>3828</th>\n",
       "      <td>0.001794</td>\n",
       "      <td>53</td>\n",
       "      <td>3217</td>\n",
       "      <td>2.150943</td>\n",
       "      <td>0.001404</td>\n",
       "      <td>25.0</td>\n",
       "      <td>1627.0</td>\n",
       "      <td>1.920000</td>\n",
       "      <td>0-32763</td>\n",
       "    </tr>\n",
       "    <tr>\n",
       "      <th>3829</th>\n",
       "      <td>0.001197</td>\n",
       "      <td>29</td>\n",
       "      <td>3679</td>\n",
       "      <td>2.413793</td>\n",
       "      <td>0.000801</td>\n",
       "      <td>16.0</td>\n",
       "      <td>2650.0</td>\n",
       "      <td>3.000000</td>\n",
       "      <td>0-32767</td>\n",
       "    </tr>\n",
       "  </tbody>\n",
       "</table>\n",
       "<p>3830 rows × 9 columns</p>\n",
       "</div>"
      ],
      "text/plain": [
       "      trade_log_return_realized_volatility  \\\n",
       "0                                 0.002006   \n",
       "1                                 0.000901   \n",
       "2                                 0.001961   \n",
       "3                                 0.001561   \n",
       "4                                 0.000871   \n",
       "...                                    ...   \n",
       "3825                              0.001519   \n",
       "3826                              0.001411   \n",
       "3827                              0.001521   \n",
       "3828                              0.001794   \n",
       "3829                              0.001197   \n",
       "\n",
       "      trade_seconds_in_bucket_count_unique  trade_size_sum  \\\n",
       "0                                       40            3179   \n",
       "1                                       30            1289   \n",
       "2                                       25            2161   \n",
       "3                                       15            1962   \n",
       "4                                       22            1791   \n",
       "...                                    ...             ...   \n",
       "3825                                    52            3450   \n",
       "3826                                    28            4547   \n",
       "3827                                    36            4250   \n",
       "3828                                    53            3217   \n",
       "3829                                    29            3679   \n",
       "\n",
       "      trade_order_count_mean  trade_log_return_realized_volatility_300  \\\n",
       "0                   2.750000                                  0.001308   \n",
       "1                   1.900000                                  0.000587   \n",
       "2                   2.720000                                  0.001137   \n",
       "3                   3.933333                                  0.001089   \n",
       "4                   4.045455                                  0.000453   \n",
       "...                      ...                                       ...   \n",
       "3825                3.057692                                  0.001162   \n",
       "3826                3.892857                                  0.001066   \n",
       "3827                3.500000                                  0.001242   \n",
       "3828                2.150943                                  0.001404   \n",
       "3829                2.413793                                  0.000801   \n",
       "\n",
       "      trade_seconds_in_bucket_count_unique_300  trade_size_sum_300  \\\n",
       "0                                         21.0              1587.0   \n",
       "1                                         16.0               900.0   \n",
       "2                                         12.0              1189.0   \n",
       "3                                          9.0              1556.0   \n",
       "4                                         11.0              1219.0   \n",
       "...                                        ...                 ...   \n",
       "3825                                      35.0              2365.0   \n",
       "3826                                      12.0              2161.0   \n",
       "3827                                      22.0              2294.0   \n",
       "3828                                      25.0              1627.0   \n",
       "3829                                      16.0              2650.0   \n",
       "\n",
       "      trade_order_count_mean_300   row_id  \n",
       "0                       2.571429      0-5  \n",
       "1                       2.250000     0-11  \n",
       "2                       3.166667     0-16  \n",
       "3                       5.111111     0-31  \n",
       "4                       4.909091     0-62  \n",
       "...                          ...      ...  \n",
       "3825                    3.257143  0-32751  \n",
       "3826                    4.250000  0-32753  \n",
       "3827                    3.727273  0-32758  \n",
       "3828                    1.920000  0-32763  \n",
       "3829                    3.000000  0-32767  \n",
       "\n",
       "[3830 rows x 9 columns]"
      ]
     },
     "execution_count": 9,
     "metadata": {},
     "output_type": "execute_result"
    }
   ],
   "source": [
    "%%time\n",
    "file_path = data_dir + \"trade_train.parquet/stock_id=0\"\n",
    "preprocessor_trade(file_path)"
   ]
  },
  {
   "cell_type": "markdown",
   "id": "73b71d50",
   "metadata": {
    "papermill": {
     "duration": 0.044848,
     "end_time": "2021-08-06T21:54:12.563758",
     "exception": false,
     "start_time": "2021-08-06T21:54:12.518910",
     "status": "completed"
    },
    "tags": []
   },
   "source": [
    "## Combined preprocessor function"
   ]
  },
  {
   "cell_type": "code",
   "execution_count": 10,
   "id": "3849953a",
   "metadata": {
    "execution": {
     "iopub.execute_input": "2021-08-06T21:54:12.665289Z",
     "iopub.status.busy": "2021-08-06T21:54:12.664377Z",
     "iopub.status.idle": "2021-08-06T21:54:12.667836Z",
     "shell.execute_reply": "2021-08-06T21:54:12.667296Z",
     "shell.execute_reply.started": "2021-08-06T14:13:09.804073Z"
    },
    "papermill": {
     "duration": 0.058289,
     "end_time": "2021-08-06T21:54:12.667969",
     "exception": false,
     "start_time": "2021-08-06T21:54:12.609680",
     "status": "completed"
    },
    "tags": []
   },
   "outputs": [],
   "source": [
    "def preprocessor(list_stock_ids, is_train = True):\n",
    "    from joblib import Parallel, delayed # parallel computing to save time\n",
    "    df = pd.DataFrame()\n",
    "    \n",
    "    def for_joblib(stock_id):\n",
    "        if is_train:\n",
    "            file_path_book = data_dir + \"book_train.parquet/stock_id=\" + str(stock_id)\n",
    "            file_path_trade = data_dir + \"trade_train.parquet/stock_id=\" + str(stock_id)\n",
    "        else:\n",
    "            file_path_book = data_dir + \"book_test.parquet/stock_id=\" + str(stock_id)\n",
    "            file_path_trade = data_dir + \"trade_test.parquet/stock_id=\" + str(stock_id)\n",
    "            \n",
    "        df_tmp = pd.merge(preprocessor_book(file_path_book),preprocessor_trade(file_path_trade),on='row_id',how='left')\n",
    "     \n",
    "        return pd.concat([df,df_tmp])\n",
    "    \n",
    "    df = Parallel(n_jobs=-1, verbose=1)(\n",
    "        delayed(for_joblib)(stock_id) for stock_id in list_stock_ids\n",
    "        )\n",
    "\n",
    "    df =  pd.concat(df,ignore_index = True)\n",
    "    return df\n"
   ]
  },
  {
   "cell_type": "code",
   "execution_count": 11,
   "id": "37d3b493",
   "metadata": {
    "execution": {
     "iopub.execute_input": "2021-08-06T21:54:12.766099Z",
     "iopub.status.busy": "2021-08-06T21:54:12.765470Z",
     "iopub.status.idle": "2021-08-06T21:54:31.336421Z",
     "shell.execute_reply": "2021-08-06T21:54:31.335755Z",
     "shell.execute_reply.started": "2021-08-06T14:13:12.620578Z"
    },
    "papermill": {
     "duration": 18.621809,
     "end_time": "2021-08-06T21:54:31.336597",
     "exception": false,
     "start_time": "2021-08-06T21:54:12.714788",
     "status": "completed"
    },
    "tags": []
   },
   "outputs": [
    {
     "name": "stderr",
     "output_type": "stream",
     "text": [
      "[Parallel(n_jobs=-1)]: Using backend LokyBackend with 4 concurrent workers.\n",
      "[Parallel(n_jobs=-1)]: Done   2 out of   2 | elapsed:   18.3s finished\n"
     ]
    },
    {
     "data": {
      "text/html": [
       "<div>\n",
       "<style scoped>\n",
       "    .dataframe tbody tr th:only-of-type {\n",
       "        vertical-align: middle;\n",
       "    }\n",
       "\n",
       "    .dataframe tbody tr th {\n",
       "        vertical-align: top;\n",
       "    }\n",
       "\n",
       "    .dataframe thead th {\n",
       "        text-align: right;\n",
       "    }\n",
       "</style>\n",
       "<table border=\"1\" class=\"dataframe\">\n",
       "  <thead>\n",
       "    <tr style=\"text-align: right;\">\n",
       "      <th></th>\n",
       "      <th>log_return_realized_volatility</th>\n",
       "      <th>log_return2_realized_volatility</th>\n",
       "      <th>log_return3_realized_volatility</th>\n",
       "      <th>wap_balance_mean</th>\n",
       "      <th>price_spread_mean</th>\n",
       "      <th>bid_spread_mean</th>\n",
       "      <th>ask_spread_mean</th>\n",
       "      <th>volume_imbalance_mean</th>\n",
       "      <th>total_volume_mean</th>\n",
       "      <th>wap_mean</th>\n",
       "      <th>...</th>\n",
       "      <th>wap_mean_300</th>\n",
       "      <th>row_id</th>\n",
       "      <th>trade_log_return_realized_volatility</th>\n",
       "      <th>trade_seconds_in_bucket_count_unique</th>\n",
       "      <th>trade_size_sum</th>\n",
       "      <th>trade_order_count_mean</th>\n",
       "      <th>trade_log_return_realized_volatility_300</th>\n",
       "      <th>trade_seconds_in_bucket_count_unique_300</th>\n",
       "      <th>trade_size_sum_300</th>\n",
       "      <th>trade_order_count_mean_300</th>\n",
       "    </tr>\n",
       "  </thead>\n",
       "  <tbody>\n",
       "    <tr>\n",
       "      <th>0</th>\n",
       "      <td>0.004499</td>\n",
       "      <td>0.006999</td>\n",
       "      <td>0.006119</td>\n",
       "      <td>0.000388</td>\n",
       "      <td>0.000852</td>\n",
       "      <td>0.000176</td>\n",
       "      <td>-0.000151</td>\n",
       "      <td>134.894040</td>\n",
       "      <td>323.496689</td>\n",
       "      <td>1.003725</td>\n",
       "      <td>...</td>\n",
       "      <td>1.003753</td>\n",
       "      <td>0-5</td>\n",
       "      <td>0.002006</td>\n",
       "      <td>40</td>\n",
       "      <td>3179</td>\n",
       "      <td>2.750000</td>\n",
       "      <td>0.001308</td>\n",
       "      <td>21.0</td>\n",
       "      <td>1587.0</td>\n",
       "      <td>2.571429</td>\n",
       "    </tr>\n",
       "    <tr>\n",
       "      <th>1</th>\n",
       "      <td>0.001204</td>\n",
       "      <td>0.002476</td>\n",
       "      <td>0.002320</td>\n",
       "      <td>0.000212</td>\n",
       "      <td>0.000394</td>\n",
       "      <td>0.000142</td>\n",
       "      <td>-0.000135</td>\n",
       "      <td>142.050000</td>\n",
       "      <td>411.450000</td>\n",
       "      <td>1.000239</td>\n",
       "      <td>...</td>\n",
       "      <td>1.000397</td>\n",
       "      <td>0-11</td>\n",
       "      <td>0.000901</td>\n",
       "      <td>30</td>\n",
       "      <td>1289</td>\n",
       "      <td>1.900000</td>\n",
       "      <td>0.000587</td>\n",
       "      <td>16.0</td>\n",
       "      <td>900.0</td>\n",
       "      <td>2.250000</td>\n",
       "    </tr>\n",
       "    <tr>\n",
       "      <th>2</th>\n",
       "      <td>0.002369</td>\n",
       "      <td>0.004801</td>\n",
       "      <td>0.004684</td>\n",
       "      <td>0.000331</td>\n",
       "      <td>0.000725</td>\n",
       "      <td>0.000197</td>\n",
       "      <td>-0.000198</td>\n",
       "      <td>141.414894</td>\n",
       "      <td>416.351064</td>\n",
       "      <td>0.999542</td>\n",
       "      <td>...</td>\n",
       "      <td>0.998685</td>\n",
       "      <td>0-16</td>\n",
       "      <td>0.001961</td>\n",
       "      <td>25</td>\n",
       "      <td>2161</td>\n",
       "      <td>2.720000</td>\n",
       "      <td>0.001137</td>\n",
       "      <td>12.0</td>\n",
       "      <td>1189.0</td>\n",
       "      <td>3.166667</td>\n",
       "    </tr>\n",
       "    <tr>\n",
       "      <th>3</th>\n",
       "      <td>0.002574</td>\n",
       "      <td>0.003637</td>\n",
       "      <td>0.002881</td>\n",
       "      <td>0.000380</td>\n",
       "      <td>0.000860</td>\n",
       "      <td>0.000190</td>\n",
       "      <td>-0.000108</td>\n",
       "      <td>146.216667</td>\n",
       "      <td>435.266667</td>\n",
       "      <td>0.998832</td>\n",
       "      <td>...</td>\n",
       "      <td>0.998436</td>\n",
       "      <td>0-31</td>\n",
       "      <td>0.001561</td>\n",
       "      <td>15</td>\n",
       "      <td>1962</td>\n",
       "      <td>3.933333</td>\n",
       "      <td>0.001089</td>\n",
       "      <td>9.0</td>\n",
       "      <td>1556.0</td>\n",
       "      <td>5.111111</td>\n",
       "    </tr>\n",
       "    <tr>\n",
       "      <th>4</th>\n",
       "      <td>0.001894</td>\n",
       "      <td>0.003257</td>\n",
       "      <td>0.003166</td>\n",
       "      <td>0.000254</td>\n",
       "      <td>0.000397</td>\n",
       "      <td>0.000191</td>\n",
       "      <td>-0.000109</td>\n",
       "      <td>123.846591</td>\n",
       "      <td>343.221591</td>\n",
       "      <td>0.999619</td>\n",
       "      <td>...</td>\n",
       "      <td>0.999488</td>\n",
       "      <td>0-62</td>\n",
       "      <td>0.000871</td>\n",
       "      <td>22</td>\n",
       "      <td>1791</td>\n",
       "      <td>4.045455</td>\n",
       "      <td>0.000453</td>\n",
       "      <td>11.0</td>\n",
       "      <td>1219.0</td>\n",
       "      <td>4.909091</td>\n",
       "    </tr>\n",
       "    <tr>\n",
       "      <th>...</th>\n",
       "      <td>...</td>\n",
       "      <td>...</td>\n",
       "      <td>...</td>\n",
       "      <td>...</td>\n",
       "      <td>...</td>\n",
       "      <td>...</td>\n",
       "      <td>...</td>\n",
       "      <td>...</td>\n",
       "      <td>...</td>\n",
       "      <td>...</td>\n",
       "      <td>...</td>\n",
       "      <td>...</td>\n",
       "      <td>...</td>\n",
       "      <td>...</td>\n",
       "      <td>...</td>\n",
       "      <td>...</td>\n",
       "      <td>...</td>\n",
       "      <td>...</td>\n",
       "      <td>...</td>\n",
       "      <td>...</td>\n",
       "      <td>...</td>\n",
       "    </tr>\n",
       "    <tr>\n",
       "      <th>7655</th>\n",
       "      <td>0.003723</td>\n",
       "      <td>0.004996</td>\n",
       "      <td>0.004719</td>\n",
       "      <td>0.000330</td>\n",
       "      <td>0.000597</td>\n",
       "      <td>0.000157</td>\n",
       "      <td>-0.000118</td>\n",
       "      <td>125.013029</td>\n",
       "      <td>296.185668</td>\n",
       "      <td>1.000142</td>\n",
       "      <td>...</td>\n",
       "      <td>1.000130</td>\n",
       "      <td>1-32751</td>\n",
       "      <td>0.001776</td>\n",
       "      <td>49</td>\n",
       "      <td>3249</td>\n",
       "      <td>2.775510</td>\n",
       "      <td>0.001280</td>\n",
       "      <td>23.0</td>\n",
       "      <td>1889.0</td>\n",
       "      <td>3.608696</td>\n",
       "    </tr>\n",
       "    <tr>\n",
       "      <th>7656</th>\n",
       "      <td>0.010829</td>\n",
       "      <td>0.012168</td>\n",
       "      <td>0.011917</td>\n",
       "      <td>0.000403</td>\n",
       "      <td>0.000922</td>\n",
       "      <td>0.000159</td>\n",
       "      <td>-0.000125</td>\n",
       "      <td>254.006073</td>\n",
       "      <td>567.840081</td>\n",
       "      <td>1.007503</td>\n",
       "      <td>...</td>\n",
       "      <td>1.012343</td>\n",
       "      <td>1-32753</td>\n",
       "      <td>0.008492</td>\n",
       "      <td>183</td>\n",
       "      <td>75903</td>\n",
       "      <td>7.874317</td>\n",
       "      <td>0.006310</td>\n",
       "      <td>88.0</td>\n",
       "      <td>30858.0</td>\n",
       "      <td>8.136364</td>\n",
       "    </tr>\n",
       "    <tr>\n",
       "      <th>7657</th>\n",
       "      <td>0.003135</td>\n",
       "      <td>0.004268</td>\n",
       "      <td>0.004681</td>\n",
       "      <td>0.000243</td>\n",
       "      <td>0.000648</td>\n",
       "      <td>0.000141</td>\n",
       "      <td>-0.000132</td>\n",
       "      <td>163.645367</td>\n",
       "      <td>426.603834</td>\n",
       "      <td>1.000854</td>\n",
       "      <td>...</td>\n",
       "      <td>1.001250</td>\n",
       "      <td>1-32758</td>\n",
       "      <td>0.001927</td>\n",
       "      <td>26</td>\n",
       "      <td>2239</td>\n",
       "      <td>2.615385</td>\n",
       "      <td>0.001567</td>\n",
       "      <td>11.0</td>\n",
       "      <td>980.0</td>\n",
       "      <td>2.727273</td>\n",
       "    </tr>\n",
       "    <tr>\n",
       "      <th>7658</th>\n",
       "      <td>0.003750</td>\n",
       "      <td>0.005773</td>\n",
       "      <td>0.005369</td>\n",
       "      <td>0.000199</td>\n",
       "      <td>0.000421</td>\n",
       "      <td>0.000190</td>\n",
       "      <td>-0.000231</td>\n",
       "      <td>138.235023</td>\n",
       "      <td>526.317972</td>\n",
       "      <td>1.003032</td>\n",
       "      <td>...</td>\n",
       "      <td>1.004296</td>\n",
       "      <td>1-32763</td>\n",
       "      <td>0.002856</td>\n",
       "      <td>109</td>\n",
       "      <td>16648</td>\n",
       "      <td>2.935780</td>\n",
       "      <td>0.001919</td>\n",
       "      <td>57.0</td>\n",
       "      <td>8274.0</td>\n",
       "      <td>2.701754</td>\n",
       "    </tr>\n",
       "    <tr>\n",
       "      <th>7659</th>\n",
       "      <td>0.001681</td>\n",
       "      <td>0.002399</td>\n",
       "      <td>0.002284</td>\n",
       "      <td>0.000104</td>\n",
       "      <td>0.000281</td>\n",
       "      <td>0.000121</td>\n",
       "      <td>-0.000121</td>\n",
       "      <td>175.268852</td>\n",
       "      <td>713.537705</td>\n",
       "      <td>1.000060</td>\n",
       "      <td>...</td>\n",
       "      <td>1.000165</td>\n",
       "      <td>1-32767</td>\n",
       "      <td>0.001704</td>\n",
       "      <td>82</td>\n",
       "      <td>7478</td>\n",
       "      <td>2.073171</td>\n",
       "      <td>0.001303</td>\n",
       "      <td>40.0</td>\n",
       "      <td>3505.0</td>\n",
       "      <td>2.125000</td>\n",
       "    </tr>\n",
       "  </tbody>\n",
       "</table>\n",
       "<p>7660 rows × 29 columns</p>\n",
       "</div>"
      ],
      "text/plain": [
       "      log_return_realized_volatility  log_return2_realized_volatility  \\\n",
       "0                           0.004499                         0.006999   \n",
       "1                           0.001204                         0.002476   \n",
       "2                           0.002369                         0.004801   \n",
       "3                           0.002574                         0.003637   \n",
       "4                           0.001894                         0.003257   \n",
       "...                              ...                              ...   \n",
       "7655                        0.003723                         0.004996   \n",
       "7656                        0.010829                         0.012168   \n",
       "7657                        0.003135                         0.004268   \n",
       "7658                        0.003750                         0.005773   \n",
       "7659                        0.001681                         0.002399   \n",
       "\n",
       "      log_return3_realized_volatility  wap_balance_mean  price_spread_mean  \\\n",
       "0                            0.006119          0.000388           0.000852   \n",
       "1                            0.002320          0.000212           0.000394   \n",
       "2                            0.004684          0.000331           0.000725   \n",
       "3                            0.002881          0.000380           0.000860   \n",
       "4                            0.003166          0.000254           0.000397   \n",
       "...                               ...               ...                ...   \n",
       "7655                         0.004719          0.000330           0.000597   \n",
       "7656                         0.011917          0.000403           0.000922   \n",
       "7657                         0.004681          0.000243           0.000648   \n",
       "7658                         0.005369          0.000199           0.000421   \n",
       "7659                         0.002284          0.000104           0.000281   \n",
       "\n",
       "      bid_spread_mean  ask_spread_mean  volume_imbalance_mean  \\\n",
       "0            0.000176        -0.000151             134.894040   \n",
       "1            0.000142        -0.000135             142.050000   \n",
       "2            0.000197        -0.000198             141.414894   \n",
       "3            0.000190        -0.000108             146.216667   \n",
       "4            0.000191        -0.000109             123.846591   \n",
       "...               ...              ...                    ...   \n",
       "7655         0.000157        -0.000118             125.013029   \n",
       "7656         0.000159        -0.000125             254.006073   \n",
       "7657         0.000141        -0.000132             163.645367   \n",
       "7658         0.000190        -0.000231             138.235023   \n",
       "7659         0.000121        -0.000121             175.268852   \n",
       "\n",
       "      total_volume_mean  wap_mean  ...  wap_mean_300   row_id  \\\n",
       "0            323.496689  1.003725  ...      1.003753      0-5   \n",
       "1            411.450000  1.000239  ...      1.000397     0-11   \n",
       "2            416.351064  0.999542  ...      0.998685     0-16   \n",
       "3            435.266667  0.998832  ...      0.998436     0-31   \n",
       "4            343.221591  0.999619  ...      0.999488     0-62   \n",
       "...                 ...       ...  ...           ...      ...   \n",
       "7655         296.185668  1.000142  ...      1.000130  1-32751   \n",
       "7656         567.840081  1.007503  ...      1.012343  1-32753   \n",
       "7657         426.603834  1.000854  ...      1.001250  1-32758   \n",
       "7658         526.317972  1.003032  ...      1.004296  1-32763   \n",
       "7659         713.537705  1.000060  ...      1.000165  1-32767   \n",
       "\n",
       "      trade_log_return_realized_volatility  \\\n",
       "0                                 0.002006   \n",
       "1                                 0.000901   \n",
       "2                                 0.001961   \n",
       "3                                 0.001561   \n",
       "4                                 0.000871   \n",
       "...                                    ...   \n",
       "7655                              0.001776   \n",
       "7656                              0.008492   \n",
       "7657                              0.001927   \n",
       "7658                              0.002856   \n",
       "7659                              0.001704   \n",
       "\n",
       "      trade_seconds_in_bucket_count_unique  trade_size_sum  \\\n",
       "0                                       40            3179   \n",
       "1                                       30            1289   \n",
       "2                                       25            2161   \n",
       "3                                       15            1962   \n",
       "4                                       22            1791   \n",
       "...                                    ...             ...   \n",
       "7655                                    49            3249   \n",
       "7656                                   183           75903   \n",
       "7657                                    26            2239   \n",
       "7658                                   109           16648   \n",
       "7659                                    82            7478   \n",
       "\n",
       "      trade_order_count_mean  trade_log_return_realized_volatility_300  \\\n",
       "0                   2.750000                                  0.001308   \n",
       "1                   1.900000                                  0.000587   \n",
       "2                   2.720000                                  0.001137   \n",
       "3                   3.933333                                  0.001089   \n",
       "4                   4.045455                                  0.000453   \n",
       "...                      ...                                       ...   \n",
       "7655                2.775510                                  0.001280   \n",
       "7656                7.874317                                  0.006310   \n",
       "7657                2.615385                                  0.001567   \n",
       "7658                2.935780                                  0.001919   \n",
       "7659                2.073171                                  0.001303   \n",
       "\n",
       "      trade_seconds_in_bucket_count_unique_300  trade_size_sum_300  \\\n",
       "0                                         21.0              1587.0   \n",
       "1                                         16.0               900.0   \n",
       "2                                         12.0              1189.0   \n",
       "3                                          9.0              1556.0   \n",
       "4                                         11.0              1219.0   \n",
       "...                                        ...                 ...   \n",
       "7655                                      23.0              1889.0   \n",
       "7656                                      88.0             30858.0   \n",
       "7657                                      11.0               980.0   \n",
       "7658                                      57.0              8274.0   \n",
       "7659                                      40.0              3505.0   \n",
       "\n",
       "      trade_order_count_mean_300  \n",
       "0                       2.571429  \n",
       "1                       2.250000  \n",
       "2                       3.166667  \n",
       "3                       5.111111  \n",
       "4                       4.909091  \n",
       "...                          ...  \n",
       "7655                    3.608696  \n",
       "7656                    8.136364  \n",
       "7657                    2.727273  \n",
       "7658                    2.701754  \n",
       "7659                    2.125000  \n",
       "\n",
       "[7660 rows x 29 columns]"
      ]
     },
     "execution_count": 11,
     "metadata": {},
     "output_type": "execute_result"
    }
   ],
   "source": [
    "list_stock_ids = [0,1]\n",
    "preprocessor(list_stock_ids, is_train = True)"
   ]
  },
  {
   "cell_type": "markdown",
   "id": "e108ade6",
   "metadata": {
    "papermill": {
     "duration": 0.047196,
     "end_time": "2021-08-06T21:54:31.432153",
     "exception": false,
     "start_time": "2021-08-06T21:54:31.384957",
     "status": "completed"
    },
    "tags": []
   },
   "source": [
    "## Training set"
   ]
  },
  {
   "cell_type": "code",
   "execution_count": 12,
   "id": "6072ef66",
   "metadata": {
    "execution": {
     "iopub.execute_input": "2021-08-06T21:54:31.533009Z",
     "iopub.status.busy": "2021-08-06T21:54:31.532253Z",
     "iopub.status.idle": "2021-08-06T21:54:31.797528Z",
     "shell.execute_reply": "2021-08-06T21:54:31.796889Z",
     "shell.execute_reply.started": "2021-08-06T14:14:28.657208Z"
    },
    "papermill": {
     "duration": 0.317981,
     "end_time": "2021-08-06T21:54:31.797720",
     "exception": false,
     "start_time": "2021-08-06T21:54:31.479739",
     "status": "completed"
    },
    "tags": []
   },
   "outputs": [],
   "source": [
    "train = pd.read_csv(data_dir + 'train.csv')"
   ]
  },
  {
   "cell_type": "code",
   "execution_count": 13,
   "id": "d7250f02",
   "metadata": {
    "execution": {
     "iopub.execute_input": "2021-08-06T21:54:31.899523Z",
     "iopub.status.busy": "2021-08-06T21:54:31.898812Z",
     "iopub.status.idle": "2021-08-06T21:54:31.905098Z",
     "shell.execute_reply": "2021-08-06T21:54:31.904414Z",
     "shell.execute_reply.started": "2021-08-06T14:14:31.154941Z"
    },
    "papermill": {
     "duration": 0.058706,
     "end_time": "2021-08-06T21:54:31.905247",
     "exception": false,
     "start_time": "2021-08-06T21:54:31.846541",
     "status": "completed"
    },
    "tags": []
   },
   "outputs": [],
   "source": [
    "train_ids = train.stock_id.unique()"
   ]
  },
  {
   "cell_type": "code",
   "execution_count": 14,
   "id": "4c965cf6",
   "metadata": {
    "execution": {
     "iopub.execute_input": "2021-08-06T21:54:32.010784Z",
     "iopub.status.busy": "2021-08-06T21:54:32.010024Z",
     "iopub.status.idle": "2021-08-06T22:08:44.345841Z",
     "shell.execute_reply": "2021-08-06T22:08:44.344895Z",
     "shell.execute_reply.started": "2021-08-06T14:14:34.057602Z"
    },
    "papermill": {
     "duration": 852.389418,
     "end_time": "2021-08-06T22:08:44.346178",
     "exception": false,
     "start_time": "2021-08-06T21:54:31.956760",
     "status": "completed"
    },
    "tags": []
   },
   "outputs": [
    {
     "name": "stderr",
     "output_type": "stream",
     "text": [
      "[Parallel(n_jobs=-1)]: Using backend LokyBackend with 4 concurrent workers.\n",
      "[Parallel(n_jobs=-1)]: Done  42 tasks      | elapsed:  5.5min\n",
      "[Parallel(n_jobs=-1)]: Done 112 out of 112 | elapsed: 14.2min finished\n"
     ]
    },
    {
     "name": "stdout",
     "output_type": "stream",
     "text": [
      "CPU times: user 3.32 s, sys: 255 ms, total: 3.58 s\n",
      "Wall time: 14min 12s\n"
     ]
    }
   ],
   "source": [
    "%%time\n",
    "df_train = preprocessor(list_stock_ids= train_ids, is_train = True)"
   ]
  },
  {
   "cell_type": "code",
   "execution_count": 15,
   "id": "d0a3afea",
   "metadata": {
    "execution": {
     "iopub.execute_input": "2021-08-06T22:08:44.470033Z",
     "iopub.status.busy": "2021-08-06T22:08:44.469164Z",
     "iopub.status.idle": "2021-08-06T22:08:46.483942Z",
     "shell.execute_reply": "2021-08-06T22:08:46.483013Z",
     "shell.execute_reply.started": "2021-08-06T14:30:06.452171Z"
    },
    "papermill": {
     "duration": 2.078641,
     "end_time": "2021-08-06T22:08:46.484132",
     "exception": false,
     "start_time": "2021-08-06T22:08:44.405491",
     "status": "completed"
    },
    "tags": []
   },
   "outputs": [],
   "source": [
    "train['row_id'] = train['stock_id'].astype(str) + '-' + train['time_id'].astype(str)\n",
    "train = train[['row_id','target']]\n",
    "df_train = train.merge(df_train, on = ['row_id'], how = 'left')"
   ]
  },
  {
   "cell_type": "code",
   "execution_count": 16,
   "id": "759423ab",
   "metadata": {
    "execution": {
     "iopub.execute_input": "2021-08-06T22:08:46.620235Z",
     "iopub.status.busy": "2021-08-06T22:08:46.619496Z",
     "iopub.status.idle": "2021-08-06T22:08:46.624202Z",
     "shell.execute_reply": "2021-08-06T22:08:46.623465Z",
     "shell.execute_reply.started": "2021-08-06T02:48:01.337076Z"
    },
    "papermill": {
     "duration": 0.089637,
     "end_time": "2021-08-06T22:08:46.624372",
     "exception": false,
     "start_time": "2021-08-06T22:08:46.534735",
     "status": "completed"
    },
    "tags": []
   },
   "outputs": [
    {
     "data": {
      "text/html": [
       "<div>\n",
       "<style scoped>\n",
       "    .dataframe tbody tr th:only-of-type {\n",
       "        vertical-align: middle;\n",
       "    }\n",
       "\n",
       "    .dataframe tbody tr th {\n",
       "        vertical-align: top;\n",
       "    }\n",
       "\n",
       "    .dataframe thead th {\n",
       "        text-align: right;\n",
       "    }\n",
       "</style>\n",
       "<table border=\"1\" class=\"dataframe\">\n",
       "  <thead>\n",
       "    <tr style=\"text-align: right;\">\n",
       "      <th></th>\n",
       "      <th>row_id</th>\n",
       "      <th>target</th>\n",
       "      <th>log_return_realized_volatility</th>\n",
       "      <th>log_return2_realized_volatility</th>\n",
       "      <th>log_return3_realized_volatility</th>\n",
       "      <th>wap_balance_mean</th>\n",
       "      <th>price_spread_mean</th>\n",
       "      <th>bid_spread_mean</th>\n",
       "      <th>ask_spread_mean</th>\n",
       "      <th>volume_imbalance_mean</th>\n",
       "      <th>...</th>\n",
       "      <th>total_volume_mean_300</th>\n",
       "      <th>wap_mean_300</th>\n",
       "      <th>trade_log_return_realized_volatility</th>\n",
       "      <th>trade_seconds_in_bucket_count_unique</th>\n",
       "      <th>trade_size_sum</th>\n",
       "      <th>trade_order_count_mean</th>\n",
       "      <th>trade_log_return_realized_volatility_300</th>\n",
       "      <th>trade_seconds_in_bucket_count_unique_300</th>\n",
       "      <th>trade_size_sum_300</th>\n",
       "      <th>trade_order_count_mean_300</th>\n",
       "    </tr>\n",
       "  </thead>\n",
       "  <tbody>\n",
       "    <tr>\n",
       "      <th>0</th>\n",
       "      <td>0-5</td>\n",
       "      <td>0.004136</td>\n",
       "      <td>0.004499</td>\n",
       "      <td>0.006999</td>\n",
       "      <td>0.006119</td>\n",
       "      <td>0.000388</td>\n",
       "      <td>0.000852</td>\n",
       "      <td>0.000176</td>\n",
       "      <td>-0.000151</td>\n",
       "      <td>134.894040</td>\n",
       "      <td>...</td>\n",
       "      <td>294.928058</td>\n",
       "      <td>1.003753</td>\n",
       "      <td>0.002006</td>\n",
       "      <td>40.0</td>\n",
       "      <td>3179.0</td>\n",
       "      <td>2.750000</td>\n",
       "      <td>0.001308</td>\n",
       "      <td>21.0</td>\n",
       "      <td>1587.0</td>\n",
       "      <td>2.571429</td>\n",
       "    </tr>\n",
       "    <tr>\n",
       "      <th>1</th>\n",
       "      <td>0-11</td>\n",
       "      <td>0.001445</td>\n",
       "      <td>0.001204</td>\n",
       "      <td>0.002476</td>\n",
       "      <td>0.002320</td>\n",
       "      <td>0.000212</td>\n",
       "      <td>0.000394</td>\n",
       "      <td>0.000142</td>\n",
       "      <td>-0.000135</td>\n",
       "      <td>142.050000</td>\n",
       "      <td>...</td>\n",
       "      <td>484.521739</td>\n",
       "      <td>1.000397</td>\n",
       "      <td>0.000901</td>\n",
       "      <td>30.0</td>\n",
       "      <td>1289.0</td>\n",
       "      <td>1.900000</td>\n",
       "      <td>0.000587</td>\n",
       "      <td>16.0</td>\n",
       "      <td>900.0</td>\n",
       "      <td>2.250000</td>\n",
       "    </tr>\n",
       "    <tr>\n",
       "      <th>2</th>\n",
       "      <td>0-16</td>\n",
       "      <td>0.002168</td>\n",
       "      <td>0.002369</td>\n",
       "      <td>0.004801</td>\n",
       "      <td>0.004684</td>\n",
       "      <td>0.000331</td>\n",
       "      <td>0.000725</td>\n",
       "      <td>0.000197</td>\n",
       "      <td>-0.000198</td>\n",
       "      <td>141.414894</td>\n",
       "      <td>...</td>\n",
       "      <td>455.235294</td>\n",
       "      <td>0.998685</td>\n",
       "      <td>0.001961</td>\n",
       "      <td>25.0</td>\n",
       "      <td>2161.0</td>\n",
       "      <td>2.720000</td>\n",
       "      <td>0.001137</td>\n",
       "      <td>12.0</td>\n",
       "      <td>1189.0</td>\n",
       "      <td>3.166667</td>\n",
       "    </tr>\n",
       "    <tr>\n",
       "      <th>3</th>\n",
       "      <td>0-31</td>\n",
       "      <td>0.002195</td>\n",
       "      <td>0.002574</td>\n",
       "      <td>0.003637</td>\n",
       "      <td>0.002881</td>\n",
       "      <td>0.000380</td>\n",
       "      <td>0.000860</td>\n",
       "      <td>0.000190</td>\n",
       "      <td>-0.000108</td>\n",
       "      <td>146.216667</td>\n",
       "      <td>...</td>\n",
       "      <td>418.169811</td>\n",
       "      <td>0.998436</td>\n",
       "      <td>0.001561</td>\n",
       "      <td>15.0</td>\n",
       "      <td>1962.0</td>\n",
       "      <td>3.933333</td>\n",
       "      <td>0.001089</td>\n",
       "      <td>9.0</td>\n",
       "      <td>1556.0</td>\n",
       "      <td>5.111111</td>\n",
       "    </tr>\n",
       "    <tr>\n",
       "      <th>4</th>\n",
       "      <td>0-62</td>\n",
       "      <td>0.001747</td>\n",
       "      <td>0.001894</td>\n",
       "      <td>0.003257</td>\n",
       "      <td>0.003166</td>\n",
       "      <td>0.000254</td>\n",
       "      <td>0.000397</td>\n",
       "      <td>0.000191</td>\n",
       "      <td>-0.000109</td>\n",
       "      <td>123.846591</td>\n",
       "      <td>...</td>\n",
       "      <td>407.584270</td>\n",
       "      <td>0.999488</td>\n",
       "      <td>0.000871</td>\n",
       "      <td>22.0</td>\n",
       "      <td>1791.0</td>\n",
       "      <td>4.045455</td>\n",
       "      <td>0.000453</td>\n",
       "      <td>11.0</td>\n",
       "      <td>1219.0</td>\n",
       "      <td>4.909091</td>\n",
       "    </tr>\n",
       "  </tbody>\n",
       "</table>\n",
       "<p>5 rows × 30 columns</p>\n",
       "</div>"
      ],
      "text/plain": [
       "  row_id    target  log_return_realized_volatility  \\\n",
       "0    0-5  0.004136                        0.004499   \n",
       "1   0-11  0.001445                        0.001204   \n",
       "2   0-16  0.002168                        0.002369   \n",
       "3   0-31  0.002195                        0.002574   \n",
       "4   0-62  0.001747                        0.001894   \n",
       "\n",
       "   log_return2_realized_volatility  log_return3_realized_volatility  \\\n",
       "0                         0.006999                         0.006119   \n",
       "1                         0.002476                         0.002320   \n",
       "2                         0.004801                         0.004684   \n",
       "3                         0.003637                         0.002881   \n",
       "4                         0.003257                         0.003166   \n",
       "\n",
       "   wap_balance_mean  price_spread_mean  bid_spread_mean  ask_spread_mean  \\\n",
       "0          0.000388           0.000852         0.000176        -0.000151   \n",
       "1          0.000212           0.000394         0.000142        -0.000135   \n",
       "2          0.000331           0.000725         0.000197        -0.000198   \n",
       "3          0.000380           0.000860         0.000190        -0.000108   \n",
       "4          0.000254           0.000397         0.000191        -0.000109   \n",
       "\n",
       "   volume_imbalance_mean  ...  total_volume_mean_300  wap_mean_300  \\\n",
       "0             134.894040  ...             294.928058      1.003753   \n",
       "1             142.050000  ...             484.521739      1.000397   \n",
       "2             141.414894  ...             455.235294      0.998685   \n",
       "3             146.216667  ...             418.169811      0.998436   \n",
       "4             123.846591  ...             407.584270      0.999488   \n",
       "\n",
       "   trade_log_return_realized_volatility  trade_seconds_in_bucket_count_unique  \\\n",
       "0                              0.002006                                  40.0   \n",
       "1                              0.000901                                  30.0   \n",
       "2                              0.001961                                  25.0   \n",
       "3                              0.001561                                  15.0   \n",
       "4                              0.000871                                  22.0   \n",
       "\n",
       "   trade_size_sum  trade_order_count_mean  \\\n",
       "0          3179.0                2.750000   \n",
       "1          1289.0                1.900000   \n",
       "2          2161.0                2.720000   \n",
       "3          1962.0                3.933333   \n",
       "4          1791.0                4.045455   \n",
       "\n",
       "   trade_log_return_realized_volatility_300  \\\n",
       "0                                  0.001308   \n",
       "1                                  0.000587   \n",
       "2                                  0.001137   \n",
       "3                                  0.001089   \n",
       "4                                  0.000453   \n",
       "\n",
       "   trade_seconds_in_bucket_count_unique_300  trade_size_sum_300  \\\n",
       "0                                      21.0              1587.0   \n",
       "1                                      16.0               900.0   \n",
       "2                                      12.0              1189.0   \n",
       "3                                       9.0              1556.0   \n",
       "4                                      11.0              1219.0   \n",
       "\n",
       "   trade_order_count_mean_300  \n",
       "0                    2.571429  \n",
       "1                    2.250000  \n",
       "2                    3.166667  \n",
       "3                    5.111111  \n",
       "4                    4.909091  \n",
       "\n",
       "[5 rows x 30 columns]"
      ]
     },
     "execution_count": 16,
     "metadata": {},
     "output_type": "execute_result"
    }
   ],
   "source": [
    "df_train.head()"
   ]
  },
  {
   "cell_type": "code",
   "execution_count": 17,
   "id": "c0cfdddd",
   "metadata": {
    "execution": {
     "iopub.execute_input": "2021-08-06T22:08:46.770463Z",
     "iopub.status.busy": "2021-08-06T22:08:46.769740Z",
     "iopub.status.idle": "2021-08-06T22:08:46.804549Z",
     "shell.execute_reply": "2021-08-06T22:08:46.803975Z",
     "shell.execute_reply.started": "2021-08-06T14:30:30.254878Z"
    },
    "papermill": {
     "duration": 0.130624,
     "end_time": "2021-08-06T22:08:46.804703",
     "exception": false,
     "start_time": "2021-08-06T22:08:46.674079",
     "status": "completed"
    },
    "tags": []
   },
   "outputs": [
    {
     "data": {
      "text/plain": [
       "row_id                                        0\n",
       "target                                        0\n",
       "log_return_realized_volatility                0\n",
       "log_return2_realized_volatility               0\n",
       "log_return3_realized_volatility               0\n",
       "wap_balance_mean                              0\n",
       "price_spread_mean                             0\n",
       "bid_spread_mean                               0\n",
       "ask_spread_mean                               0\n",
       "volume_imbalance_mean                         0\n",
       "total_volume_mean                             0\n",
       "wap_mean                                      0\n",
       "log_return_realized_volatility_300            0\n",
       "log_return2_realized_volatility_300           0\n",
       "log_return3_realized_volatility_300           0\n",
       "wap_balance_mean_300                          0\n",
       "price_spread_mean_300                         0\n",
       "bid_spread_mean_300                           0\n",
       "ask_spread_mean_300                           0\n",
       "volume_imbalance_mean_300                     0\n",
       "total_volume_mean_300                         0\n",
       "wap_mean_300                                  0\n",
       "trade_log_return_realized_volatility         19\n",
       "trade_seconds_in_bucket_count_unique         19\n",
       "trade_size_sum                               19\n",
       "trade_order_count_mean                       19\n",
       "trade_log_return_realized_volatility_300    238\n",
       "trade_seconds_in_bucket_count_unique_300    238\n",
       "trade_size_sum_300                          238\n",
       "trade_order_count_mean_300                  238\n",
       "dtype: int64"
      ]
     },
     "execution_count": 17,
     "metadata": {},
     "output_type": "execute_result"
    }
   ],
   "source": [
    "df_train.isnull().sum()"
   ]
  },
  {
   "cell_type": "code",
   "execution_count": 18,
   "id": "66430fc5",
   "metadata": {
    "execution": {
     "iopub.execute_input": "2021-08-06T22:08:46.911140Z",
     "iopub.status.busy": "2021-08-06T22:08:46.910411Z",
     "iopub.status.idle": "2021-08-06T22:08:47.007370Z",
     "shell.execute_reply": "2021-08-06T22:08:47.007945Z",
     "shell.execute_reply.started": "2021-08-06T14:30:33.374493Z"
    },
    "papermill": {
     "duration": 0.152432,
     "end_time": "2021-08-06T22:08:47.008144",
     "exception": false,
     "start_time": "2021-08-06T22:08:46.855712",
     "status": "completed"
    },
    "tags": []
   },
   "outputs": [],
   "source": [
    "df_train.fillna(0, inplace=True)"
   ]
  },
  {
   "cell_type": "code",
   "execution_count": 19,
   "id": "a7631209",
   "metadata": {
    "execution": {
     "iopub.execute_input": "2021-08-06T22:08:47.114779Z",
     "iopub.status.busy": "2021-08-06T22:08:47.114065Z",
     "iopub.status.idle": "2021-08-06T22:08:47.186716Z",
     "shell.execute_reply": "2021-08-06T22:08:47.187229Z",
     "shell.execute_reply.started": "2021-08-06T14:30:35.353764Z"
    },
    "papermill": {
     "duration": 0.128591,
     "end_time": "2021-08-06T22:08:47.187423",
     "exception": false,
     "start_time": "2021-08-06T22:08:47.058832",
     "status": "completed"
    },
    "tags": []
   },
   "outputs": [
    {
     "data": {
      "text/plain": [
       "row_id                                      0\n",
       "target                                      0\n",
       "log_return_realized_volatility              0\n",
       "log_return2_realized_volatility             0\n",
       "log_return3_realized_volatility             0\n",
       "wap_balance_mean                            0\n",
       "price_spread_mean                           0\n",
       "bid_spread_mean                             0\n",
       "ask_spread_mean                             0\n",
       "volume_imbalance_mean                       0\n",
       "total_volume_mean                           0\n",
       "wap_mean                                    0\n",
       "log_return_realized_volatility_300          0\n",
       "log_return2_realized_volatility_300         0\n",
       "log_return3_realized_volatility_300         0\n",
       "wap_balance_mean_300                        0\n",
       "price_spread_mean_300                       0\n",
       "bid_spread_mean_300                         0\n",
       "ask_spread_mean_300                         0\n",
       "volume_imbalance_mean_300                   0\n",
       "total_volume_mean_300                       0\n",
       "wap_mean_300                                0\n",
       "trade_log_return_realized_volatility        0\n",
       "trade_seconds_in_bucket_count_unique        0\n",
       "trade_size_sum                              0\n",
       "trade_order_count_mean                      0\n",
       "trade_log_return_realized_volatility_300    0\n",
       "trade_seconds_in_bucket_count_unique_300    0\n",
       "trade_size_sum_300                          0\n",
       "trade_order_count_mean_300                  0\n",
       "dtype: int64"
      ]
     },
     "execution_count": 19,
     "metadata": {},
     "output_type": "execute_result"
    }
   ],
   "source": [
    "df_train.isna().sum()"
   ]
  },
  {
   "cell_type": "markdown",
   "id": "9cafcb02",
   "metadata": {
    "papermill": {
     "duration": 0.050429,
     "end_time": "2021-08-06T22:08:47.288525",
     "exception": false,
     "start_time": "2021-08-06T22:08:47.238096",
     "status": "completed"
    },
    "tags": []
   },
   "source": [
    "## Test set"
   ]
  },
  {
   "cell_type": "code",
   "execution_count": 20,
   "id": "a9187fff",
   "metadata": {
    "execution": {
     "iopub.execute_input": "2021-08-06T22:08:47.396821Z",
     "iopub.status.busy": "2021-08-06T22:08:47.396097Z",
     "iopub.status.idle": "2021-08-06T22:08:47.410634Z",
     "shell.execute_reply": "2021-08-06T22:08:47.409842Z",
     "shell.execute_reply.started": "2021-08-06T14:33:01.645080Z"
    },
    "papermill": {
     "duration": 0.070981,
     "end_time": "2021-08-06T22:08:47.410793",
     "exception": false,
     "start_time": "2021-08-06T22:08:47.339812",
     "status": "completed"
    },
    "tags": []
   },
   "outputs": [],
   "source": [
    "test = pd.read_csv(data_dir + 'test.csv')"
   ]
  },
  {
   "cell_type": "code",
   "execution_count": 21,
   "id": "f948c328",
   "metadata": {
    "execution": {
     "iopub.execute_input": "2021-08-06T22:08:47.521495Z",
     "iopub.status.busy": "2021-08-06T22:08:47.520538Z",
     "iopub.status.idle": "2021-08-06T22:08:47.524422Z",
     "shell.execute_reply": "2021-08-06T22:08:47.523699Z",
     "shell.execute_reply.started": "2021-08-06T14:33:03.262954Z"
    },
    "papermill": {
     "duration": 0.061554,
     "end_time": "2021-08-06T22:08:47.524593",
     "exception": false,
     "start_time": "2021-08-06T22:08:47.463039",
     "status": "completed"
    },
    "tags": []
   },
   "outputs": [],
   "source": [
    "test_ids = test.stock_id.unique()"
   ]
  },
  {
   "cell_type": "code",
   "execution_count": 22,
   "id": "bb0ea737",
   "metadata": {
    "execution": {
     "iopub.execute_input": "2021-08-06T22:08:47.632562Z",
     "iopub.status.busy": "2021-08-06T22:08:47.631744Z",
     "iopub.status.idle": "2021-08-06T22:08:47.840236Z",
     "shell.execute_reply": "2021-08-06T22:08:47.839670Z",
     "shell.execute_reply.started": "2021-08-06T14:33:05.239321Z"
    },
    "papermill": {
     "duration": 0.264495,
     "end_time": "2021-08-06T22:08:47.840413",
     "exception": false,
     "start_time": "2021-08-06T22:08:47.575918",
     "status": "completed"
    },
    "tags": []
   },
   "outputs": [
    {
     "name": "stdout",
     "output_type": "stream",
     "text": [
      "CPU times: user 20 ms, sys: 57 µs, total: 20 ms\n",
      "Wall time: 200 ms\n"
     ]
    },
    {
     "name": "stderr",
     "output_type": "stream",
     "text": [
      "[Parallel(n_jobs=-1)]: Using backend LokyBackend with 4 concurrent workers.\n",
      "[Parallel(n_jobs=-1)]: Done   1 out of   1 | elapsed:    0.2s finished\n"
     ]
    }
   ],
   "source": [
    "%%time\n",
    "df_test = preprocessor(list_stock_ids= test_ids, is_train = False)"
   ]
  },
  {
   "cell_type": "code",
   "execution_count": 23,
   "id": "eadd6518",
   "metadata": {
    "execution": {
     "iopub.execute_input": "2021-08-06T22:08:47.956227Z",
     "iopub.status.busy": "2021-08-06T22:08:47.955530Z",
     "iopub.status.idle": "2021-08-06T22:08:47.959001Z",
     "shell.execute_reply": "2021-08-06T22:08:47.958254Z",
     "shell.execute_reply.started": "2021-08-06T14:33:09.294290Z"
    },
    "papermill": {
     "duration": 0.067472,
     "end_time": "2021-08-06T22:08:47.959151",
     "exception": false,
     "start_time": "2021-08-06T22:08:47.891679",
     "status": "completed"
    },
    "tags": []
   },
   "outputs": [],
   "source": [
    "df_test = test.merge(df_test, on = ['row_id'], how = 'left')"
   ]
  },
  {
   "cell_type": "markdown",
   "id": "cab0aa06",
   "metadata": {
    "papermill": {
     "duration": 0.051226,
     "end_time": "2021-08-06T22:08:48.063996",
     "exception": false,
     "start_time": "2021-08-06T22:08:48.012770",
     "status": "completed"
    },
    "tags": []
   },
   "source": [
    "## Target encoding by stock_id"
   ]
  },
  {
   "cell_type": "code",
   "execution_count": 24,
   "id": "8b223eef",
   "metadata": {
    "execution": {
     "iopub.execute_input": "2021-08-06T22:08:48.170140Z",
     "iopub.status.busy": "2021-08-06T22:08:48.169431Z",
     "iopub.status.idle": "2021-08-06T22:08:51.419194Z",
     "shell.execute_reply": "2021-08-06T22:08:51.418494Z",
     "shell.execute_reply.started": "2021-08-06T14:33:11.327117Z"
    },
    "papermill": {
     "duration": 3.304388,
     "end_time": "2021-08-06T22:08:51.419364",
     "exception": false,
     "start_time": "2021-08-06T22:08:48.114976",
     "status": "completed"
    },
    "tags": []
   },
   "outputs": [],
   "source": [
    "from sklearn.model_selection import KFold\n",
    "#stock_id target encoding\n",
    "df_train['stock_id'] = df_train['row_id'].apply(lambda x:x.split('-')[0])\n",
    "df_test['stock_id'] = df_test['row_id'].apply(lambda x:x.split('-')[0])\n",
    "\n",
    "stock_id_target_mean = df_train.groupby('stock_id')['target'].mean() \n",
    "df_test['stock_id_target_enc'] = df_test['stock_id'].map(stock_id_target_mean) # test_set\n",
    "\n",
    "#training\n",
    "tmp = np.repeat(np.nan, df_train.shape[0])\n",
    "kf = KFold(n_splits = 20, shuffle=True,random_state = 19911109)\n",
    "for idx_1, idx_2 in kf.split(df_train):\n",
    "    target_mean = df_train.iloc[idx_1].groupby('stock_id')['target'].mean()\n",
    "\n",
    "    tmp[idx_2] = df_train['stock_id'].iloc[idx_2].map(target_mean)\n",
    "df_train['stock_id_target_enc'] = tmp"
   ]
  },
  {
   "cell_type": "markdown",
   "id": "87123283",
   "metadata": {
    "papermill": {
     "duration": 0.05237,
     "end_time": "2021-08-06T22:08:51.524878",
     "exception": false,
     "start_time": "2021-08-06T22:08:51.472508",
     "status": "completed"
    },
    "tags": []
   },
   "source": [
    "## Model Building"
   ]
  },
  {
   "cell_type": "markdown",
   "id": "40ff5d7a",
   "metadata": {
    "papermill": {
     "duration": 0.05502,
     "end_time": "2021-08-06T22:08:51.635891",
     "exception": false,
     "start_time": "2021-08-06T22:08:51.580871",
     "status": "completed"
    },
    "tags": []
   },
   "source": [
    "## LSTM-Regression"
   ]
  },
  {
   "cell_type": "code",
   "execution_count": 25,
   "id": "a212a8d4",
   "metadata": {
    "execution": {
     "iopub.execute_input": "2021-08-06T22:08:51.746802Z",
     "iopub.status.busy": "2021-08-06T22:08:51.745903Z",
     "iopub.status.idle": "2021-08-06T22:08:58.165647Z",
     "shell.execute_reply": "2021-08-06T22:08:58.166544Z",
     "shell.execute_reply.started": "2021-08-06T14:35:40.214340Z"
    },
    "papermill": {
     "duration": 6.477058,
     "end_time": "2021-08-06T22:08:58.166728",
     "exception": false,
     "start_time": "2021-08-06T22:08:51.689670",
     "status": "completed"
    },
    "tags": []
   },
   "outputs": [],
   "source": [
    "from tensorflow import keras\n",
    "from keras.models import Sequential\n",
    "from keras.layers import LSTM, Dense"
   ]
  },
  {
   "cell_type": "code",
   "execution_count": 26,
   "id": "d14a6aa1",
   "metadata": {
    "execution": {
     "iopub.execute_input": "2021-08-06T22:08:58.274555Z",
     "iopub.status.busy": "2021-08-06T22:08:58.273866Z",
     "iopub.status.idle": "2021-08-06T22:08:58.353837Z",
     "shell.execute_reply": "2021-08-06T22:08:58.354399Z",
     "shell.execute_reply.started": "2021-08-06T14:36:58.714797Z"
    },
    "papermill": {
     "duration": 0.135825,
     "end_time": "2021-08-06T22:08:58.354622",
     "exception": false,
     "start_time": "2021-08-06T22:08:58.218797",
     "status": "completed"
    },
    "tags": []
   },
   "outputs": [],
   "source": [
    "df_train['stock_id'] = df_train['stock_id'].astype(int)\n",
    "df_test['stock_id'] = df_test['stock_id'].astype(int)"
   ]
  },
  {
   "cell_type": "code",
   "execution_count": 27,
   "id": "d4c7b44b",
   "metadata": {
    "execution": {
     "iopub.execute_input": "2021-08-06T22:08:58.459607Z",
     "iopub.status.busy": "2021-08-06T22:08:58.458932Z",
     "iopub.status.idle": "2021-08-06T22:08:58.518180Z",
     "shell.execute_reply": "2021-08-06T22:08:58.518793Z",
     "shell.execute_reply.started": "2021-08-06T14:37:01.178389Z"
    },
    "papermill": {
     "duration": 0.113477,
     "end_time": "2021-08-06T22:08:58.519004",
     "exception": false,
     "start_time": "2021-08-06T22:08:58.405527",
     "status": "completed"
    },
    "tags": []
   },
   "outputs": [],
   "source": [
    "X= df_train.drop(['row_id','target'],axis=1)\n",
    "y= df_train['target']"
   ]
  },
  {
   "cell_type": "code",
   "execution_count": 28,
   "id": "b54b8aae",
   "metadata": {
    "execution": {
     "iopub.execute_input": "2021-08-06T22:08:58.624672Z",
     "iopub.status.busy": "2021-08-06T22:08:58.624005Z",
     "iopub.status.idle": "2021-08-06T22:08:58.629422Z",
     "shell.execute_reply": "2021-08-06T22:08:58.629952Z",
     "shell.execute_reply.started": "2021-08-06T14:37:03.474937Z"
    },
    "papermill": {
     "duration": 0.059118,
     "end_time": "2021-08-06T22:08:58.630124",
     "exception": false,
     "start_time": "2021-08-06T22:08:58.571006",
     "status": "completed"
    },
    "tags": []
   },
   "outputs": [],
   "source": [
    "from sklearn.model_selection import KFold\n",
    "kf = KFold(n_splits=25, random_state=19901028, shuffle=True)\n",
    "oof = pd.DataFrame()                 # out-of-fold result\n",
    "models = []                          # models\n",
    "scores = 0.0   "
   ]
  },
  {
   "cell_type": "code",
   "execution_count": 29,
   "id": "6ae56cd4",
   "metadata": {
    "execution": {
     "iopub.execute_input": "2021-08-06T22:08:58.735544Z",
     "iopub.status.busy": "2021-08-06T22:08:58.734872Z",
     "iopub.status.idle": "2021-08-06T22:09:00.883985Z",
     "shell.execute_reply": "2021-08-06T22:09:00.883070Z",
     "shell.execute_reply.started": "2021-08-06T14:37:05.753429Z"
    },
    "papermill": {
     "duration": 2.203393,
     "end_time": "2021-08-06T22:09:00.884183",
     "exception": false,
     "start_time": "2021-08-06T22:08:58.680790",
     "status": "completed"
    },
    "tags": []
   },
   "outputs": [
    {
     "name": "stdout",
     "output_type": "stream",
     "text": [
      "CPU times: user 1.91 s, sys: 227 ms, total: 2.14 s\n",
      "Wall time: 2.14 s\n"
     ]
    }
   ],
   "source": [
    "%%time\n",
    "for fold, (trn_idx, val_idx) in enumerate(kf.split(X, y)):\n",
    "    \n",
    "    # create dataset\n",
    "    X_train, y_train = X.loc[trn_idx], y[trn_idx]\n",
    "    X_valid, y_valid = X.loc[val_idx], y[val_idx]\n",
    "    "
   ]
  },
  {
   "cell_type": "code",
   "execution_count": null,
   "id": "71c700e1",
   "metadata": {
    "papermill": {
     "duration": 0.052732,
     "end_time": "2021-08-06T22:09:00.990278",
     "exception": false,
     "start_time": "2021-08-06T22:09:00.937546",
     "status": "completed"
    },
    "tags": []
   },
   "outputs": [],
   "source": []
  },
  {
   "cell_type": "code",
   "execution_count": 30,
   "id": "993f0671",
   "metadata": {
    "execution": {
     "iopub.execute_input": "2021-08-06T22:09:01.102021Z",
     "iopub.status.busy": "2021-08-06T22:09:01.101327Z",
     "iopub.status.idle": "2021-08-06T22:09:03.245612Z",
     "shell.execute_reply": "2021-08-06T22:09:03.246416Z",
     "shell.execute_reply.started": "2021-08-06T14:37:12.568328Z"
    },
    "papermill": {
     "duration": 2.203526,
     "end_time": "2021-08-06T22:09:03.246604",
     "exception": false,
     "start_time": "2021-08-06T22:09:01.043078",
     "status": "completed"
    },
    "tags": []
   },
   "outputs": [
    {
     "name": "stdout",
     "output_type": "stream",
     "text": [
      "CPU times: user 1.94 s, sys: 195 ms, total: 2.14 s\n",
      "Wall time: 2.14 s\n"
     ]
    }
   ],
   "source": [
    "%%time\n",
    "for fold, (trn_idx, val_idx) in enumerate(kf.split(X, y)):\n",
    "    \n",
    "    # create dataset\n",
    "    X_train, y_train = X.loc[trn_idx], y[trn_idx]\n",
    "    X_valid, y_valid = X.loc[val_idx], y[val_idx]\n",
    "    \n"
   ]
  },
  {
   "cell_type": "code",
   "execution_count": 31,
   "id": "571ff6f2",
   "metadata": {
    "execution": {
     "iopub.execute_input": "2021-08-06T22:09:03.359255Z",
     "iopub.status.busy": "2021-08-06T22:09:03.358588Z",
     "iopub.status.idle": "2021-08-06T22:09:03.361863Z",
     "shell.execute_reply": "2021-08-06T22:09:03.361160Z",
     "shell.execute_reply.started": "2021-08-06T14:38:07.738883Z"
    },
    "papermill": {
     "duration": 0.062495,
     "end_time": "2021-08-06T22:09:03.362014",
     "exception": false,
     "start_time": "2021-08-06T22:09:03.299519",
     "status": "completed"
    },
    "tags": []
   },
   "outputs": [],
   "source": [
    "from sklearn.preprocessing import StandardScaler"
   ]
  },
  {
   "cell_type": "code",
   "execution_count": 32,
   "id": "c1f0d6a7",
   "metadata": {
    "execution": {
     "iopub.execute_input": "2021-08-06T22:09:03.477878Z",
     "iopub.status.busy": "2021-08-06T22:09:03.477083Z",
     "iopub.status.idle": "2021-08-06T22:09:03.827534Z",
     "shell.execute_reply": "2021-08-06T22:09:03.826915Z",
     "shell.execute_reply.started": "2021-08-06T14:38:09.986445Z"
    },
    "papermill": {
     "duration": 0.412479,
     "end_time": "2021-08-06T22:09:03.827701",
     "exception": false,
     "start_time": "2021-08-06T22:09:03.415222",
     "status": "completed"
    },
    "tags": []
   },
   "outputs": [],
   "source": [
    "scaler = StandardScaler()\n",
    "X_train_scaled = scaler.fit_transform(X_train)\n",
    "X_valid_scaled = scaler.transform(X_valid)"
   ]
  },
  {
   "cell_type": "markdown",
   "id": "387c764c",
   "metadata": {
    "papermill": {
     "duration": 0.052367,
     "end_time": "2021-08-06T22:09:03.931914",
     "exception": false,
     "start_time": "2021-08-06T22:09:03.879547",
     "status": "completed"
    },
    "tags": []
   },
   "source": [
    "**Labeling"
   ]
  },
  {
   "cell_type": "code",
   "execution_count": 33,
   "id": "1668f63d",
   "metadata": {
    "execution": {
     "iopub.execute_input": "2021-08-06T22:09:04.264294Z",
     "iopub.status.busy": "2021-08-06T22:09:04.227641Z",
     "iopub.status.idle": "2021-08-06T22:09:28.694092Z",
     "shell.execute_reply": "2021-08-06T22:09:28.693541Z",
     "shell.execute_reply.started": "2021-08-06T14:38:13.618387Z"
    },
    "papermill": {
     "duration": 24.709373,
     "end_time": "2021-08-06T22:09:28.694241",
     "exception": false,
     "start_time": "2021-08-06T22:09:03.984868",
     "status": "completed"
    },
    "tags": []
   },
   "outputs": [],
   "source": [
    "n = 30  \n",
    "Xtrain = []\n",
    "ytrain = []\n",
    "\n",
    "for i in range(n, len(X_train_scaled)): \n",
    "    Xtrain.append(X_train_scaled[(i - n):i, :X_train_scaled.shape[1]])\n",
    "    ytrain.append(y_train[i-1:i]) # predict the next record\n"
   ]
  },
  {
   "cell_type": "code",
   "execution_count": 34,
   "id": "7e9ef9f8",
   "metadata": {
    "execution": {
     "iopub.execute_input": "2021-08-06T22:09:28.993152Z",
     "iopub.status.busy": "2021-08-06T22:09:28.991844Z",
     "iopub.status.idle": "2021-08-06T22:09:47.361149Z",
     "shell.execute_reply": "2021-08-06T22:09:47.360615Z",
     "shell.execute_reply.started": "2021-08-06T14:38:42.712069Z"
    },
    "papermill": {
     "duration": 18.61428,
     "end_time": "2021-08-06T22:09:47.361298",
     "exception": false,
     "start_time": "2021-08-06T22:09:28.747018",
     "status": "completed"
    },
    "tags": []
   },
   "outputs": [],
   "source": [
    "Xtrain, ytrain = (np.array(Xtrain), np.array(ytrain))\n",
    "#Xtrain = np.reshape(Xtrain, (Xtrain.shape[0], Xtrain.shape[1], Xtrain.shape[2]))"
   ]
  },
  {
   "cell_type": "code",
   "execution_count": 35,
   "id": "485e6e25",
   "metadata": {
    "execution": {
     "iopub.execute_input": "2021-08-06T22:09:47.471426Z",
     "iopub.status.busy": "2021-08-06T22:09:47.470635Z",
     "iopub.status.idle": "2021-08-06T22:09:47.474514Z",
     "shell.execute_reply": "2021-08-06T22:09:47.473937Z"
    },
    "papermill": {
     "duration": 0.061745,
     "end_time": "2021-08-06T22:09:47.474669",
     "exception": false,
     "start_time": "2021-08-06T22:09:47.412924",
     "status": "completed"
    },
    "tags": []
   },
   "outputs": [
    {
     "data": {
      "text/plain": [
       "(30, 30)"
      ]
     },
     "execution_count": 35,
     "metadata": {},
     "output_type": "execute_result"
    }
   ],
   "source": [
    "Xtrain[0].shape"
   ]
  },
  {
   "cell_type": "code",
   "execution_count": 36,
   "id": "af5ba6d9",
   "metadata": {
    "execution": {
     "iopub.execute_input": "2021-08-06T22:09:47.586064Z",
     "iopub.status.busy": "2021-08-06T22:09:47.585405Z",
     "iopub.status.idle": "2021-08-06T22:09:47.587420Z",
     "shell.execute_reply": "2021-08-06T22:09:47.587911Z",
     "shell.execute_reply.started": "2021-08-06T14:46:29.525493Z"
    },
    "papermill": {
     "duration": 0.059752,
     "end_time": "2021-08-06T22:09:47.588084",
     "exception": false,
     "start_time": "2021-08-06T22:09:47.528332",
     "status": "completed"
    },
    "tags": []
   },
   "outputs": [],
   "source": [
    "Xvalid = []\n",
    "yvalid = []"
   ]
  },
  {
   "cell_type": "code",
   "execution_count": 37,
   "id": "438f4b74",
   "metadata": {
    "execution": {
     "iopub.execute_input": "2021-08-06T22:09:47.712687Z",
     "iopub.status.busy": "2021-08-06T22:09:47.707470Z",
     "iopub.status.idle": "2021-08-06T22:09:48.400814Z",
     "shell.execute_reply": "2021-08-06T22:09:48.400116Z",
     "shell.execute_reply.started": "2021-08-06T14:46:31.892381Z"
    },
    "papermill": {
     "duration": 0.759681,
     "end_time": "2021-08-06T22:09:48.400954",
     "exception": false,
     "start_time": "2021-08-06T22:09:47.641273",
     "status": "completed"
    },
    "tags": []
   },
   "outputs": [],
   "source": [
    "m = 30\n",
    "for i in range(m, len(X_valid)): #use different numbers\n",
    "    Xvalid.append(X_valid_scaled[(i - n):i, :X_valid_scaled.shape[1]])\n",
    "    yvalid.append(y_valid[i-1:i]) # predict the next record"
   ]
  },
  {
   "cell_type": "code",
   "execution_count": 38,
   "id": "3a97eb4a",
   "metadata": {
    "execution": {
     "iopub.execute_input": "2021-08-06T22:09:48.515159Z",
     "iopub.status.busy": "2021-08-06T22:09:48.514040Z",
     "iopub.status.idle": "2021-08-06T22:09:49.309817Z",
     "shell.execute_reply": "2021-08-06T22:09:49.309155Z",
     "shell.execute_reply.started": "2021-08-06T14:46:40.204600Z"
    },
    "papermill": {
     "duration": 0.856999,
     "end_time": "2021-08-06T22:09:49.309961",
     "exception": false,
     "start_time": "2021-08-06T22:09:48.452962",
     "status": "completed"
    },
    "tags": []
   },
   "outputs": [],
   "source": [
    "Xvalid, yvalid = (np.array(Xvalid), np.array(yvalid))\n",
    "#Xvalid = np.reshape(Xvalid, (Xvalid.shape[0], Xvalid.shape[1], Xvalid.shape[2]))"
   ]
  },
  {
   "cell_type": "code",
   "execution_count": 39,
   "id": "ac09c94f",
   "metadata": {
    "execution": {
     "iopub.execute_input": "2021-08-06T22:09:49.419568Z",
     "iopub.status.busy": "2021-08-06T22:09:49.418676Z",
     "iopub.status.idle": "2021-08-06T22:09:49.422604Z",
     "shell.execute_reply": "2021-08-06T22:09:49.422064Z",
     "shell.execute_reply.started": "2021-08-06T18:34:37.081495Z"
    },
    "papermill": {
     "duration": 0.060922,
     "end_time": "2021-08-06T22:09:49.422765",
     "exception": false,
     "start_time": "2021-08-06T22:09:49.361843",
     "status": "completed"
    },
    "tags": []
   },
   "outputs": [
    {
     "data": {
      "text/plain": [
       "(17127, 1)"
      ]
     },
     "execution_count": 39,
     "metadata": {},
     "output_type": "execute_result"
    }
   ],
   "source": [
    "yvalid.shape"
   ]
  },
  {
   "cell_type": "code",
   "execution_count": 40,
   "id": "4f3ce6c9",
   "metadata": {
    "execution": {
     "iopub.execute_input": "2021-08-06T22:09:49.535956Z",
     "iopub.status.busy": "2021-08-06T22:09:49.535277Z",
     "iopub.status.idle": "2021-08-06T22:09:49.537103Z",
     "shell.execute_reply": "2021-08-06T22:09:49.537639Z",
     "shell.execute_reply.started": "2021-08-06T14:46:42.701312Z"
    },
    "papermill": {
     "duration": 0.061947,
     "end_time": "2021-08-06T22:09:49.537805",
     "exception": false,
     "start_time": "2021-08-06T22:09:49.475858",
     "status": "completed"
    },
    "tags": []
   },
   "outputs": [],
   "source": [
    "def layer_maker(n_layers, n_nodes, activation, drop=None, d_rate=.5):\n",
    "    \"\"\"\n",
    "    Creates a specified number of hidden layers for an RNN\n",
    "    Optional: Adds regularization option - the dropout layer to prevent potential overfitting (if necessary)\n",
    "    \"\"\"\n",
    "    \n",
    "    # Creating the specified number of hidden layers with the specified number of nodes\n",
    "    for x in range(1,n_layers+1):\n",
    "        model.add(LSTM(n_nodes, activation=activation, return_sequences=True))\n",
    "\n",
    "        # Adds a Dropout layer after every Nth hidden layer (the 'drop' variable)\n",
    "        try:\n",
    "            if x % drop == 0:\n",
    "                model.add(Dropout(d_rate))\n",
    "        except:\n",
    "            pass"
   ]
  },
  {
   "cell_type": "code",
   "execution_count": 41,
   "id": "895a7bfa",
   "metadata": {
    "execution": {
     "iopub.execute_input": "2021-08-06T22:09:49.648470Z",
     "iopub.status.busy": "2021-08-06T22:09:49.647759Z",
     "iopub.status.idle": "2021-08-06T22:09:50.780732Z",
     "shell.execute_reply": "2021-08-06T22:09:50.780061Z",
     "shell.execute_reply.started": "2021-08-06T14:46:54.426030Z"
    },
    "papermill": {
     "duration": 1.19053,
     "end_time": "2021-08-06T22:09:50.780874",
     "exception": false,
     "start_time": "2021-08-06T22:09:49.590344",
     "status": "completed"
    },
    "tags": []
   },
   "outputs": [
    {
     "name": "stdout",
     "output_type": "stream",
     "text": [
      "Model: \"sequential\"\n",
      "_________________________________________________________________\n",
      "Layer (type)                 Output Shape              Param #   \n",
      "=================================================================\n",
      "lstm (LSTM)                  (None, 30, 50)            16200     \n",
      "_________________________________________________________________\n",
      "lstm_1 (LSTM)                (None, 30, 30)            9720      \n",
      "_________________________________________________________________\n",
      "lstm_2 (LSTM)                (None, 30, 30)            7320      \n",
      "_________________________________________________________________\n",
      "lstm_3 (LSTM)                (None, 30)                7320      \n",
      "_________________________________________________________________\n",
      "dense (Dense)                (None, 1)                 31        \n",
      "=================================================================\n",
      "Total params: 40,591\n",
      "Trainable params: 40,591\n",
      "Non-trainable params: 0\n",
      "_________________________________________________________________\n"
     ]
    }
   ],
   "source": [
    "# Instatiating the model\n",
    "model = Sequential()\n",
    "\n",
    "# Activation\n",
    "activ = \"tanh\"\n",
    "\n",
    "# Input layer\n",
    "model.add(LSTM(50, \n",
    "               activation=activ, \n",
    "               return_sequences=True, \n",
    "               input_shape=(30, Xtrain.shape[1])))\n",
    "\n",
    "# Hidden layers\n",
    "layer_maker(n_layers=2, \n",
    "        n_nodes=30, \n",
    "            activation=activ,\n",
    "            drop=1,\n",
    "            d_rate=.1)\n",
    "\n",
    "# Final Hidden layer\n",
    "model.add(LSTM(30, activation=activ))\n",
    "\n",
    "# Output layer\n",
    "model.add(Dense(1))\n",
    "\n",
    "# Model summary\n",
    "model.summary()"
   ]
  },
  {
   "cell_type": "code",
   "execution_count": 42,
   "id": "d920e6ac",
   "metadata": {
    "execution": {
     "iopub.execute_input": "2021-08-06T22:09:50.901883Z",
     "iopub.status.busy": "2021-08-06T22:09:50.901118Z",
     "iopub.status.idle": "2021-08-06T22:09:50.909302Z",
     "shell.execute_reply": "2021-08-06T22:09:50.908757Z",
     "shell.execute_reply.started": "2021-08-06T14:47:01.393251Z"
    },
    "papermill": {
     "duration": 0.075059,
     "end_time": "2021-08-06T22:09:50.909481",
     "exception": false,
     "start_time": "2021-08-06T22:09:50.834422",
     "status": "completed"
    },
    "tags": []
   },
   "outputs": [],
   "source": [
    "model.compile(optimizer='adam', loss='mse', metrics=['mean_squared_error'])"
   ]
  },
  {
   "cell_type": "code",
   "execution_count": 43,
   "id": "9a874d12",
   "metadata": {
    "execution": {
     "iopub.execute_input": "2021-08-06T22:09:51.063288Z",
     "iopub.status.busy": "2021-08-06T22:09:51.062383Z",
     "iopub.status.idle": "2021-08-07T01:47:26.420429Z",
     "shell.execute_reply": "2021-08-07T01:47:26.421188Z",
     "shell.execute_reply.started": "2021-08-06T14:47:04.060158Z"
    },
    "papermill": {
     "duration": 13055.450116,
     "end_time": "2021-08-07T01:47:26.421487",
     "exception": false,
     "start_time": "2021-08-06T22:09:50.971371",
     "status": "completed"
    },
    "tags": []
   },
   "outputs": [
    {
     "name": "stdout",
     "output_type": "stream",
     "text": [
      "Epoch 1/20\n",
      "11581/11581 [==============================] - 650s 55ms/step - loss: 1.8106e-05 - mean_squared_error: 1.8106e-05 - val_loss: 1.5497e-06 - val_mean_squared_error: 1.5497e-06\n",
      "Epoch 2/20\n",
      "11581/11581 [==============================] - 647s 56ms/step - loss: 1.8683e-06 - mean_squared_error: 1.8683e-06 - val_loss: 1.4068e-06 - val_mean_squared_error: 1.4068e-06\n",
      "Epoch 3/20\n",
      "11581/11581 [==============================] - 641s 55ms/step - loss: 1.7519e-06 - mean_squared_error: 1.7519e-06 - val_loss: 1.6227e-06 - val_mean_squared_error: 1.6227e-06\n",
      "Epoch 4/20\n",
      "11581/11581 [==============================] - 644s 56ms/step - loss: 1.6844e-06 - mean_squared_error: 1.6844e-06 - val_loss: 1.4657e-06 - val_mean_squared_error: 1.4657e-06\n",
      "Epoch 5/20\n",
      "11581/11581 [==============================] - 651s 56ms/step - loss: 1.6764e-06 - mean_squared_error: 1.6764e-06 - val_loss: 1.2488e-06 - val_mean_squared_error: 1.2488e-06\n",
      "Epoch 6/20\n",
      "11581/11581 [==============================] - 649s 56ms/step - loss: 1.6577e-06 - mean_squared_error: 1.6577e-06 - val_loss: 1.2931e-06 - val_mean_squared_error: 1.2931e-06\n",
      "Epoch 7/20\n",
      "11581/11581 [==============================] - 657s 57ms/step - loss: 1.6375e-06 - mean_squared_error: 1.6375e-06 - val_loss: 1.3203e-06 - val_mean_squared_error: 1.3203e-06\n",
      "Epoch 8/20\n",
      "11581/11581 [==============================] - 647s 56ms/step - loss: 1.6133e-06 - mean_squared_error: 1.6133e-06 - val_loss: 1.4328e-06 - val_mean_squared_error: 1.4328e-06\n",
      "Epoch 9/20\n",
      "11581/11581 [==============================] - 646s 56ms/step - loss: 1.6764e-06 - mean_squared_error: 1.6764e-06 - val_loss: 1.2670e-06 - val_mean_squared_error: 1.2670e-06\n",
      "Epoch 10/20\n",
      "11581/11581 [==============================] - 661s 57ms/step - loss: 1.6311e-06 - mean_squared_error: 1.6311e-06 - val_loss: 1.4204e-06 - val_mean_squared_error: 1.4204e-06\n",
      "Epoch 11/20\n",
      "11581/11581 [==============================] - 663s 57ms/step - loss: 1.6254e-06 - mean_squared_error: 1.6254e-06 - val_loss: 1.2717e-06 - val_mean_squared_error: 1.2717e-06\n",
      "Epoch 12/20\n",
      "11581/11581 [==============================] - 648s 56ms/step - loss: 1.6193e-06 - mean_squared_error: 1.6193e-06 - val_loss: 1.2410e-06 - val_mean_squared_error: 1.2410e-06\n",
      "Epoch 13/20\n",
      "11581/11581 [==============================] - 650s 56ms/step - loss: 1.5900e-06 - mean_squared_error: 1.5900e-06 - val_loss: 1.4614e-06 - val_mean_squared_error: 1.4614e-06\n",
      "Epoch 14/20\n",
      "11581/11581 [==============================] - 645s 56ms/step - loss: 1.5823e-06 - mean_squared_error: 1.5823e-06 - val_loss: 1.5174e-06 - val_mean_squared_error: 1.5174e-06\n",
      "Epoch 15/20\n",
      "11581/11581 [==============================] - 642s 55ms/step - loss: 1.5833e-06 - mean_squared_error: 1.5833e-06 - val_loss: 1.1985e-06 - val_mean_squared_error: 1.1985e-06\n",
      "Epoch 16/20\n",
      "11581/11581 [==============================] - 650s 56ms/step - loss: 1.6165e-06 - mean_squared_error: 1.6165e-06 - val_loss: 1.2236e-06 - val_mean_squared_error: 1.2236e-06\n",
      "Epoch 17/20\n",
      "11581/11581 [==============================] - 664s 57ms/step - loss: 1.5382e-06 - mean_squared_error: 1.5382e-06 - val_loss: 1.2832e-06 - val_mean_squared_error: 1.2832e-06\n",
      "Epoch 18/20\n",
      "11581/11581 [==============================] - 678s 59ms/step - loss: 1.5623e-06 - mean_squared_error: 1.5623e-06 - val_loss: 1.3025e-06 - val_mean_squared_error: 1.3025e-06\n",
      "Epoch 19/20\n",
      "11581/11581 [==============================] - 664s 57ms/step - loss: 1.6157e-06 - mean_squared_error: 1.6157e-06 - val_loss: 1.3428e-06 - val_mean_squared_error: 1.3428e-06\n",
      "Epoch 20/20\n",
      "11581/11581 [==============================] - 656s 57ms/step - loss: 1.5587e-06 - mean_squared_error: 1.5587e-06 - val_loss: 1.3943e-06 - val_mean_squared_error: 1.3943e-06\n"
     ]
    }
   ],
   "source": [
    "LSTM_Model = model.fit(Xtrain, ytrain, epochs = 20, batch_size =32, validation_split=0.1)"
   ]
  },
  {
   "cell_type": "code",
   "execution_count": 44,
   "id": "5feaf83d",
   "metadata": {
    "execution": {
     "iopub.execute_input": "2021-08-07T01:49:43.120514Z",
     "iopub.status.busy": "2021-08-07T01:49:43.119802Z",
     "iopub.status.idle": "2021-08-07T01:49:51.788079Z",
     "shell.execute_reply": "2021-08-07T01:49:51.788787Z",
     "shell.execute_reply.started": "2021-08-06T18:27:46.325566Z"
    },
    "papermill": {
     "duration": 76.771605,
     "end_time": "2021-08-07T01:49:51.789030",
     "exception": false,
     "start_time": "2021-08-07T01:48:35.017425",
     "status": "completed"
    },
    "tags": []
   },
   "outputs": [],
   "source": [
    "#validation\n",
    "y_pred = model.predict(Xvalid)"
   ]
  },
  {
   "cell_type": "code",
   "execution_count": 45,
   "id": "b668bf18",
   "metadata": {
    "execution": {
     "iopub.execute_input": "2021-08-07T01:52:08.387376Z",
     "iopub.status.busy": "2021-08-07T01:52:08.386646Z",
     "iopub.status.idle": "2021-08-07T01:52:08.390834Z",
     "shell.execute_reply": "2021-08-07T01:52:08.390304Z",
     "shell.execute_reply.started": "2021-08-06T18:32:03.678510Z"
    },
    "papermill": {
     "duration": 67.68206,
     "end_time": "2021-08-07T01:52:08.390981",
     "exception": false,
     "start_time": "2021-08-07T01:51:00.708921",
     "status": "completed"
    },
    "tags": []
   },
   "outputs": [
    {
     "data": {
      "text/plain": [
       "(17127, 1)"
      ]
     },
     "execution_count": 45,
     "metadata": {},
     "output_type": "execute_result"
    }
   ],
   "source": [
    "y_pred.shape"
   ]
  },
  {
   "cell_type": "code",
   "execution_count": 46,
   "id": "87d466eb",
   "metadata": {
    "execution": {
     "iopub.execute_input": "2021-08-07T01:54:26.080850Z",
     "iopub.status.busy": "2021-08-07T01:54:26.079164Z",
     "iopub.status.idle": "2021-08-07T01:54:26.085868Z",
     "shell.execute_reply": "2021-08-07T01:54:26.086683Z",
     "shell.execute_reply.started": "2021-08-06T18:27:58.135426Z"
    },
    "papermill": {
     "duration": 69.223699,
     "end_time": "2021-08-07T01:54:26.086950",
     "exception": false,
     "start_time": "2021-08-07T01:53:16.863251",
     "status": "completed"
    },
    "tags": []
   },
   "outputs": [],
   "source": [
    "def rmspe(y_true, y_pred):\n",
    "    return  (np.sqrt(np.mean(np.square((y_true - y_pred) / y_true))))"
   ]
  },
  {
   "cell_type": "code",
   "execution_count": 47,
   "id": "ec39f671",
   "metadata": {
    "execution": {
     "iopub.execute_input": "2021-08-07T01:56:44.671873Z",
     "iopub.status.busy": "2021-08-07T01:56:44.671053Z",
     "iopub.status.idle": "2021-08-07T01:56:44.676652Z",
     "shell.execute_reply": "2021-08-07T01:56:44.675729Z",
     "shell.execute_reply.started": "2021-08-06T18:35:31.525285Z"
    },
    "papermill": {
     "duration": 69.941624,
     "end_time": "2021-08-07T01:56:44.676856",
     "exception": false,
     "start_time": "2021-08-07T01:55:34.735232",
     "status": "completed"
    },
    "tags": []
   },
   "outputs": [
    {
     "name": "stdout",
     "output_type": "stream",
     "text": [
      "Performance of the　prediction: , RMSPE: 0.252\n"
     ]
    }
   ],
   "source": [
    "RMSPE = round(rmspe(y_true = yvalid, y_pred = y_pred),3)\n",
    "print(f'Performance of the　prediction: , RMSPE: {RMSPE}')\n",
    "    \n",
    " "
   ]
  },
  {
   "cell_type": "code",
   "execution_count": 48,
   "id": "262986be",
   "metadata": {
    "execution": {
     "iopub.execute_input": "2021-08-07T01:59:01.539900Z",
     "iopub.status.busy": "2021-08-07T01:59:01.539220Z",
     "iopub.status.idle": "2021-08-07T01:59:01.542177Z",
     "shell.execute_reply": "2021-08-07T01:59:01.543657Z",
     "shell.execute_reply.started": "2021-08-06T18:34:56.711455Z"
    },
    "papermill": {
     "duration": 68.436182,
     "end_time": "2021-08-07T01:59:01.544066",
     "exception": false,
     "start_time": "2021-08-07T01:57:53.107884",
     "status": "completed"
    },
    "tags": []
   },
   "outputs": [
    {
     "name": "stdout",
     "output_type": "stream",
     "text": [
      "****************************************************************************************************\n"
     ]
    }
   ],
   "source": [
    " \n",
    "\n",
    "    #keep scores and models\n",
    "    scores += RMSPE / 25\n",
    "    models.append(model)\n",
    "    print(\"*\" * 100)"
   ]
  }
 ],
 "metadata": {
  "kernelspec": {
   "display_name": "Python 3",
   "language": "python",
   "name": "python3"
  },
  "language_info": {
   "codemirror_mode": {
    "name": "ipython",
    "version": 3
   },
   "file_extension": ".py",
   "mimetype": "text/x-python",
   "name": "python",
   "nbconvert_exporter": "python",
   "pygments_lexer": "ipython3",
   "version": "3.7.10"
  },
  "papermill": {
   "default_parameters": {},
   "duration": 14786.582555,
   "end_time": "2021-08-07T02:00:12.392150",
   "environment_variables": {},
   "exception": null,
   "input_path": "__notebook__.ipynb",
   "output_path": "__notebook__.ipynb",
   "parameters": {},
   "start_time": "2021-08-06T21:53:45.809595",
   "version": "2.3.3"
  }
 },
 "nbformat": 4,
 "nbformat_minor": 5
}
